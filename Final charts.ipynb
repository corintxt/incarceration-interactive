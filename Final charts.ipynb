{
 "cells": [
  {
   "cell_type": "code",
   "execution_count": 5,
   "metadata": {},
   "outputs": [],
   "source": [
    "import pandas as pd\n",
    "import altair as alt"
   ]
  },
  {
   "cell_type": "code",
   "execution_count": 2,
   "metadata": {},
   "outputs": [],
   "source": [
    "pd.set_option('display.max_columns', 100)"
   ]
  },
  {
   "cell_type": "code",
   "execution_count": 3,
   "metadata": {},
   "outputs": [],
   "source": [
    "df = pd.read_csv('data/incarceration_trends.csv')"
   ]
  },
  {
   "cell_type": "code",
   "execution_count": 8,
   "metadata": {},
   "outputs": [
    {
     "data": {
      "text/html": [
       "<div>\n",
       "<style scoped>\n",
       "    .dataframe tbody tr th:only-of-type {\n",
       "        vertical-align: middle;\n",
       "    }\n",
       "\n",
       "    .dataframe tbody tr th {\n",
       "        vertical-align: top;\n",
       "    }\n",
       "\n",
       "    .dataframe thead th {\n",
       "        text-align: right;\n",
       "    }\n",
       "</style>\n",
       "<table border=\"1\" class=\"dataframe\">\n",
       "  <thead>\n",
       "    <tr style=\"text-align: right;\">\n",
       "      <th></th>\n",
       "      <th>yfips</th>\n",
       "      <th>year</th>\n",
       "      <th>fips</th>\n",
       "      <th>state</th>\n",
       "      <th>county_name</th>\n",
       "      <th>total_pop</th>\n",
       "      <th>total_pop_15to64</th>\n",
       "      <th>female_pop_15to64</th>\n",
       "      <th>male_pop_15to64</th>\n",
       "      <th>asian_pop_15to64</th>\n",
       "      <th>black_pop_15to64</th>\n",
       "      <th>latino_pop_15to64</th>\n",
       "      <th>native_pop_15to64</th>\n",
       "      <th>other_pop_15to64</th>\n",
       "      <th>white_pop_15to64</th>\n",
       "      <th>urbanicity</th>\n",
       "      <th>region</th>\n",
       "      <th>division</th>\n",
       "      <th>commuting_zone</th>\n",
       "      <th>metro_area</th>\n",
       "      <th>land_area</th>\n",
       "      <th>total_jail_adm</th>\n",
       "      <th>total_jail_adm_dcrp</th>\n",
       "      <th>female_jail_adm_dcrp</th>\n",
       "      <th>male_jail_adm_dcrp</th>\n",
       "      <th>total_jail_pop</th>\n",
       "      <th>female_jail_pop</th>\n",
       "      <th>male_jail_pop</th>\n",
       "      <th>asian_jail_pop</th>\n",
       "      <th>black_jail_pop</th>\n",
       "      <th>latino_jail_pop</th>\n",
       "      <th>native_jail_pop</th>\n",
       "      <th>white_jail_pop</th>\n",
       "      <th>total_jail_pretrial</th>\n",
       "      <th>female_jail_pretrial</th>\n",
       "      <th>male_jail_pretrial</th>\n",
       "      <th>jail_from_state_prison</th>\n",
       "      <th>jail_from_other_state_prison</th>\n",
       "      <th>jail_from_state_jail</th>\n",
       "      <th>jail_from_other_state_jail</th>\n",
       "      <th>jail_from_fed</th>\n",
       "      <th>jail_from_ice</th>\n",
       "      <th>total_jail_pop_dcrp</th>\n",
       "      <th>female_jail_pop_dcrp</th>\n",
       "      <th>male_jail_pop_dcrp</th>\n",
       "      <th>total_prison_pop</th>\n",
       "      <th>female_prison_pop</th>\n",
       "      <th>male_prison_pop</th>\n",
       "      <th>asian_prison_pop</th>\n",
       "      <th>black_prison_pop</th>\n",
       "      <th>latino_prison_pop</th>\n",
       "      <th>native_prison_pop</th>\n",
       "      <th>other_prison_pop</th>\n",
       "      <th>white_prison_pop</th>\n",
       "      <th>total_prison_adm</th>\n",
       "      <th>female_prison_adm</th>\n",
       "      <th>male_prison_adm</th>\n",
       "      <th>asian_prison_adm</th>\n",
       "      <th>black_prison_adm</th>\n",
       "      <th>latino_prison_adm</th>\n",
       "      <th>native_prison_adm</th>\n",
       "      <th>other_prison_adm</th>\n",
       "      <th>white_prison_adm</th>\n",
       "      <th>num_facilites</th>\n",
       "      <th>num_employees</th>\n",
       "      <th>confined_pop</th>\n",
       "      <th>capacity</th>\n",
       "      <th>ucr_population</th>\n",
       "      <th>index_crime</th>\n",
       "      <th>violent_crime</th>\n",
       "      <th>property_crime</th>\n",
       "      <th>murder_crime</th>\n",
       "      <th>rape_crime</th>\n",
       "      <th>robbery_crime</th>\n",
       "      <th>agr_assault_crime</th>\n",
       "      <th>burglary_crime</th>\n",
       "      <th>larceny_crime</th>\n",
       "      <th>mv_theft_crime</th>\n",
       "      <th>arson_crime</th>\n",
       "    </tr>\n",
       "  </thead>\n",
       "  <tbody>\n",
       "    <tr>\n",
       "      <th>0</th>\n",
       "      <td>197001001</td>\n",
       "      <td>1970</td>\n",
       "      <td>1001</td>\n",
       "      <td>AL</td>\n",
       "      <td>Autauga County</td>\n",
       "      <td>24661</td>\n",
       "      <td>14154</td>\n",
       "      <td>7293</td>\n",
       "      <td>6861</td>\n",
       "      <td>NaN</td>\n",
       "      <td>3413</td>\n",
       "      <td>NaN</td>\n",
       "      <td>NaN</td>\n",
       "      <td>15.0</td>\n",
       "      <td>10726</td>\n",
       "      <td>small/mid</td>\n",
       "      <td>South</td>\n",
       "      <td>East South Central</td>\n",
       "      <td>60.0</td>\n",
       "      <td>33860.0</td>\n",
       "      <td>594.449</td>\n",
       "      <td>0.0</td>\n",
       "      <td>NaN</td>\n",
       "      <td>NaN</td>\n",
       "      <td>NaN</td>\n",
       "      <td>0.0</td>\n",
       "      <td>0.0</td>\n",
       "      <td>0.0</td>\n",
       "      <td>NaN</td>\n",
       "      <td>NaN</td>\n",
       "      <td>NaN</td>\n",
       "      <td>NaN</td>\n",
       "      <td>NaN</td>\n",
       "      <td>0.0</td>\n",
       "      <td>0.0</td>\n",
       "      <td>0.0</td>\n",
       "      <td>0.0</td>\n",
       "      <td>0.0</td>\n",
       "      <td>0.0</td>\n",
       "      <td>0.0</td>\n",
       "      <td>0.0</td>\n",
       "      <td>0.0</td>\n",
       "      <td>NaN</td>\n",
       "      <td>NaN</td>\n",
       "      <td>NaN</td>\n",
       "      <td>NaN</td>\n",
       "      <td>NaN</td>\n",
       "      <td>NaN</td>\n",
       "      <td>NaN</td>\n",
       "      <td>NaN</td>\n",
       "      <td>NaN</td>\n",
       "      <td>NaN</td>\n",
       "      <td>NaN</td>\n",
       "      <td>NaN</td>\n",
       "      <td>NaN</td>\n",
       "      <td>NaN</td>\n",
       "      <td>NaN</td>\n",
       "      <td>NaN</td>\n",
       "      <td>NaN</td>\n",
       "      <td>NaN</td>\n",
       "      <td>NaN</td>\n",
       "      <td>NaN</td>\n",
       "      <td>NaN</td>\n",
       "      <td>0.0</td>\n",
       "      <td>0.0</td>\n",
       "      <td>0.0</td>\n",
       "      <td>0.0</td>\n",
       "      <td>NaN</td>\n",
       "      <td>NaN</td>\n",
       "      <td>NaN</td>\n",
       "      <td>NaN</td>\n",
       "      <td>NaN</td>\n",
       "      <td>NaN</td>\n",
       "      <td>NaN</td>\n",
       "      <td>NaN</td>\n",
       "      <td>NaN</td>\n",
       "      <td>NaN</td>\n",
       "      <td>NaN</td>\n",
       "      <td>NaN</td>\n",
       "    </tr>\n",
       "    <tr>\n",
       "      <th>1</th>\n",
       "      <td>197101001</td>\n",
       "      <td>1971</td>\n",
       "      <td>1001</td>\n",
       "      <td>AL</td>\n",
       "      <td>Autauga County</td>\n",
       "      <td>25503</td>\n",
       "      <td>14765</td>\n",
       "      <td>7585</td>\n",
       "      <td>7180</td>\n",
       "      <td>NaN</td>\n",
       "      <td>3451</td>\n",
       "      <td>NaN</td>\n",
       "      <td>NaN</td>\n",
       "      <td>24.0</td>\n",
       "      <td>11290</td>\n",
       "      <td>small/mid</td>\n",
       "      <td>South</td>\n",
       "      <td>East South Central</td>\n",
       "      <td>60.0</td>\n",
       "      <td>33860.0</td>\n",
       "      <td>594.449</td>\n",
       "      <td>0.0</td>\n",
       "      <td>NaN</td>\n",
       "      <td>NaN</td>\n",
       "      <td>NaN</td>\n",
       "      <td>0.0</td>\n",
       "      <td>0.0</td>\n",
       "      <td>0.0</td>\n",
       "      <td>NaN</td>\n",
       "      <td>NaN</td>\n",
       "      <td>NaN</td>\n",
       "      <td>NaN</td>\n",
       "      <td>NaN</td>\n",
       "      <td>0.0</td>\n",
       "      <td>0.0</td>\n",
       "      <td>0.0</td>\n",
       "      <td>0.0</td>\n",
       "      <td>0.0</td>\n",
       "      <td>0.0</td>\n",
       "      <td>0.0</td>\n",
       "      <td>0.0</td>\n",
       "      <td>0.0</td>\n",
       "      <td>NaN</td>\n",
       "      <td>NaN</td>\n",
       "      <td>NaN</td>\n",
       "      <td>NaN</td>\n",
       "      <td>NaN</td>\n",
       "      <td>NaN</td>\n",
       "      <td>NaN</td>\n",
       "      <td>NaN</td>\n",
       "      <td>NaN</td>\n",
       "      <td>NaN</td>\n",
       "      <td>NaN</td>\n",
       "      <td>NaN</td>\n",
       "      <td>NaN</td>\n",
       "      <td>NaN</td>\n",
       "      <td>NaN</td>\n",
       "      <td>NaN</td>\n",
       "      <td>NaN</td>\n",
       "      <td>NaN</td>\n",
       "      <td>NaN</td>\n",
       "      <td>NaN</td>\n",
       "      <td>NaN</td>\n",
       "      <td>0.0</td>\n",
       "      <td>0.0</td>\n",
       "      <td>0.0</td>\n",
       "      <td>0.0</td>\n",
       "      <td>NaN</td>\n",
       "      <td>NaN</td>\n",
       "      <td>NaN</td>\n",
       "      <td>NaN</td>\n",
       "      <td>NaN</td>\n",
       "      <td>NaN</td>\n",
       "      <td>NaN</td>\n",
       "      <td>NaN</td>\n",
       "      <td>NaN</td>\n",
       "      <td>NaN</td>\n",
       "      <td>NaN</td>\n",
       "      <td>NaN</td>\n",
       "    </tr>\n",
       "    <tr>\n",
       "      <th>2</th>\n",
       "      <td>197201001</td>\n",
       "      <td>1972</td>\n",
       "      <td>1001</td>\n",
       "      <td>AL</td>\n",
       "      <td>Autauga County</td>\n",
       "      <td>27156</td>\n",
       "      <td>15939</td>\n",
       "      <td>8168</td>\n",
       "      <td>7771</td>\n",
       "      <td>NaN</td>\n",
       "      <td>3625</td>\n",
       "      <td>NaN</td>\n",
       "      <td>NaN</td>\n",
       "      <td>31.0</td>\n",
       "      <td>12283</td>\n",
       "      <td>small/mid</td>\n",
       "      <td>South</td>\n",
       "      <td>East South Central</td>\n",
       "      <td>60.0</td>\n",
       "      <td>33860.0</td>\n",
       "      <td>594.449</td>\n",
       "      <td>0.0</td>\n",
       "      <td>NaN</td>\n",
       "      <td>NaN</td>\n",
       "      <td>NaN</td>\n",
       "      <td>0.0</td>\n",
       "      <td>0.0</td>\n",
       "      <td>0.0</td>\n",
       "      <td>NaN</td>\n",
       "      <td>NaN</td>\n",
       "      <td>NaN</td>\n",
       "      <td>NaN</td>\n",
       "      <td>NaN</td>\n",
       "      <td>0.0</td>\n",
       "      <td>0.0</td>\n",
       "      <td>0.0</td>\n",
       "      <td>0.0</td>\n",
       "      <td>0.0</td>\n",
       "      <td>0.0</td>\n",
       "      <td>0.0</td>\n",
       "      <td>0.0</td>\n",
       "      <td>0.0</td>\n",
       "      <td>NaN</td>\n",
       "      <td>NaN</td>\n",
       "      <td>NaN</td>\n",
       "      <td>NaN</td>\n",
       "      <td>NaN</td>\n",
       "      <td>NaN</td>\n",
       "      <td>NaN</td>\n",
       "      <td>NaN</td>\n",
       "      <td>NaN</td>\n",
       "      <td>NaN</td>\n",
       "      <td>NaN</td>\n",
       "      <td>NaN</td>\n",
       "      <td>NaN</td>\n",
       "      <td>NaN</td>\n",
       "      <td>NaN</td>\n",
       "      <td>NaN</td>\n",
       "      <td>NaN</td>\n",
       "      <td>NaN</td>\n",
       "      <td>NaN</td>\n",
       "      <td>NaN</td>\n",
       "      <td>NaN</td>\n",
       "      <td>0.0</td>\n",
       "      <td>0.0</td>\n",
       "      <td>0.0</td>\n",
       "      <td>0.0</td>\n",
       "      <td>NaN</td>\n",
       "      <td>NaN</td>\n",
       "      <td>NaN</td>\n",
       "      <td>NaN</td>\n",
       "      <td>NaN</td>\n",
       "      <td>NaN</td>\n",
       "      <td>NaN</td>\n",
       "      <td>NaN</td>\n",
       "      <td>NaN</td>\n",
       "      <td>NaN</td>\n",
       "      <td>NaN</td>\n",
       "      <td>NaN</td>\n",
       "    </tr>\n",
       "    <tr>\n",
       "      <th>3</th>\n",
       "      <td>197301001</td>\n",
       "      <td>1973</td>\n",
       "      <td>1001</td>\n",
       "      <td>AL</td>\n",
       "      <td>Autauga County</td>\n",
       "      <td>28453</td>\n",
       "      <td>16906</td>\n",
       "      <td>8651</td>\n",
       "      <td>8255</td>\n",
       "      <td>NaN</td>\n",
       "      <td>3747</td>\n",
       "      <td>NaN</td>\n",
       "      <td>NaN</td>\n",
       "      <td>41.0</td>\n",
       "      <td>13118</td>\n",
       "      <td>small/mid</td>\n",
       "      <td>South</td>\n",
       "      <td>East South Central</td>\n",
       "      <td>60.0</td>\n",
       "      <td>33860.0</td>\n",
       "      <td>594.449</td>\n",
       "      <td>0.0</td>\n",
       "      <td>NaN</td>\n",
       "      <td>NaN</td>\n",
       "      <td>NaN</td>\n",
       "      <td>0.0</td>\n",
       "      <td>0.0</td>\n",
       "      <td>0.0</td>\n",
       "      <td>NaN</td>\n",
       "      <td>NaN</td>\n",
       "      <td>NaN</td>\n",
       "      <td>NaN</td>\n",
       "      <td>NaN</td>\n",
       "      <td>0.0</td>\n",
       "      <td>0.0</td>\n",
       "      <td>0.0</td>\n",
       "      <td>0.0</td>\n",
       "      <td>0.0</td>\n",
       "      <td>0.0</td>\n",
       "      <td>0.0</td>\n",
       "      <td>0.0</td>\n",
       "      <td>0.0</td>\n",
       "      <td>NaN</td>\n",
       "      <td>NaN</td>\n",
       "      <td>NaN</td>\n",
       "      <td>NaN</td>\n",
       "      <td>NaN</td>\n",
       "      <td>NaN</td>\n",
       "      <td>NaN</td>\n",
       "      <td>NaN</td>\n",
       "      <td>NaN</td>\n",
       "      <td>NaN</td>\n",
       "      <td>NaN</td>\n",
       "      <td>NaN</td>\n",
       "      <td>NaN</td>\n",
       "      <td>NaN</td>\n",
       "      <td>NaN</td>\n",
       "      <td>NaN</td>\n",
       "      <td>NaN</td>\n",
       "      <td>NaN</td>\n",
       "      <td>NaN</td>\n",
       "      <td>NaN</td>\n",
       "      <td>NaN</td>\n",
       "      <td>0.0</td>\n",
       "      <td>0.0</td>\n",
       "      <td>0.0</td>\n",
       "      <td>0.0</td>\n",
       "      <td>NaN</td>\n",
       "      <td>NaN</td>\n",
       "      <td>NaN</td>\n",
       "      <td>NaN</td>\n",
       "      <td>NaN</td>\n",
       "      <td>NaN</td>\n",
       "      <td>NaN</td>\n",
       "      <td>NaN</td>\n",
       "      <td>NaN</td>\n",
       "      <td>NaN</td>\n",
       "      <td>NaN</td>\n",
       "      <td>NaN</td>\n",
       "    </tr>\n",
       "    <tr>\n",
       "      <th>4</th>\n",
       "      <td>197401001</td>\n",
       "      <td>1974</td>\n",
       "      <td>1001</td>\n",
       "      <td>AL</td>\n",
       "      <td>Autauga County</td>\n",
       "      <td>29261</td>\n",
       "      <td>17578</td>\n",
       "      <td>8992</td>\n",
       "      <td>8586</td>\n",
       "      <td>NaN</td>\n",
       "      <td>3791</td>\n",
       "      <td>NaN</td>\n",
       "      <td>NaN</td>\n",
       "      <td>49.0</td>\n",
       "      <td>13738</td>\n",
       "      <td>small/mid</td>\n",
       "      <td>South</td>\n",
       "      <td>East South Central</td>\n",
       "      <td>60.0</td>\n",
       "      <td>33860.0</td>\n",
       "      <td>594.449</td>\n",
       "      <td>0.0</td>\n",
       "      <td>NaN</td>\n",
       "      <td>NaN</td>\n",
       "      <td>NaN</td>\n",
       "      <td>0.0</td>\n",
       "      <td>0.0</td>\n",
       "      <td>0.0</td>\n",
       "      <td>NaN</td>\n",
       "      <td>NaN</td>\n",
       "      <td>NaN</td>\n",
       "      <td>NaN</td>\n",
       "      <td>NaN</td>\n",
       "      <td>0.0</td>\n",
       "      <td>0.0</td>\n",
       "      <td>0.0</td>\n",
       "      <td>0.0</td>\n",
       "      <td>0.0</td>\n",
       "      <td>0.0</td>\n",
       "      <td>0.0</td>\n",
       "      <td>0.0</td>\n",
       "      <td>0.0</td>\n",
       "      <td>NaN</td>\n",
       "      <td>NaN</td>\n",
       "      <td>NaN</td>\n",
       "      <td>NaN</td>\n",
       "      <td>NaN</td>\n",
       "      <td>NaN</td>\n",
       "      <td>NaN</td>\n",
       "      <td>NaN</td>\n",
       "      <td>NaN</td>\n",
       "      <td>NaN</td>\n",
       "      <td>NaN</td>\n",
       "      <td>NaN</td>\n",
       "      <td>NaN</td>\n",
       "      <td>NaN</td>\n",
       "      <td>NaN</td>\n",
       "      <td>NaN</td>\n",
       "      <td>NaN</td>\n",
       "      <td>NaN</td>\n",
       "      <td>NaN</td>\n",
       "      <td>NaN</td>\n",
       "      <td>NaN</td>\n",
       "      <td>0.0</td>\n",
       "      <td>0.0</td>\n",
       "      <td>0.0</td>\n",
       "      <td>0.0</td>\n",
       "      <td>NaN</td>\n",
       "      <td>NaN</td>\n",
       "      <td>NaN</td>\n",
       "      <td>NaN</td>\n",
       "      <td>NaN</td>\n",
       "      <td>NaN</td>\n",
       "      <td>NaN</td>\n",
       "      <td>NaN</td>\n",
       "      <td>NaN</td>\n",
       "      <td>NaN</td>\n",
       "      <td>NaN</td>\n",
       "      <td>NaN</td>\n",
       "    </tr>\n",
       "  </tbody>\n",
       "</table>\n",
       "</div>"
      ],
      "text/plain": [
       "       yfips  year  fips state     county_name  total_pop  total_pop_15to64  \\\n",
       "0  197001001  1970  1001    AL  Autauga County      24661             14154   \n",
       "1  197101001  1971  1001    AL  Autauga County      25503             14765   \n",
       "2  197201001  1972  1001    AL  Autauga County      27156             15939   \n",
       "3  197301001  1973  1001    AL  Autauga County      28453             16906   \n",
       "4  197401001  1974  1001    AL  Autauga County      29261             17578   \n",
       "\n",
       "   female_pop_15to64  male_pop_15to64  asian_pop_15to64  black_pop_15to64  \\\n",
       "0               7293             6861               NaN              3413   \n",
       "1               7585             7180               NaN              3451   \n",
       "2               8168             7771               NaN              3625   \n",
       "3               8651             8255               NaN              3747   \n",
       "4               8992             8586               NaN              3791   \n",
       "\n",
       "   latino_pop_15to64  native_pop_15to64  other_pop_15to64  white_pop_15to64  \\\n",
       "0                NaN                NaN              15.0             10726   \n",
       "1                NaN                NaN              24.0             11290   \n",
       "2                NaN                NaN              31.0             12283   \n",
       "3                NaN                NaN              41.0             13118   \n",
       "4                NaN                NaN              49.0             13738   \n",
       "\n",
       "  urbanicity region            division  commuting_zone  metro_area  \\\n",
       "0  small/mid  South  East South Central            60.0     33860.0   \n",
       "1  small/mid  South  East South Central            60.0     33860.0   \n",
       "2  small/mid  South  East South Central            60.0     33860.0   \n",
       "3  small/mid  South  East South Central            60.0     33860.0   \n",
       "4  small/mid  South  East South Central            60.0     33860.0   \n",
       "\n",
       "   land_area  total_jail_adm  total_jail_adm_dcrp  female_jail_adm_dcrp  \\\n",
       "0    594.449             0.0                  NaN                   NaN   \n",
       "1    594.449             0.0                  NaN                   NaN   \n",
       "2    594.449             0.0                  NaN                   NaN   \n",
       "3    594.449             0.0                  NaN                   NaN   \n",
       "4    594.449             0.0                  NaN                   NaN   \n",
       "\n",
       "   male_jail_adm_dcrp  total_jail_pop  female_jail_pop  male_jail_pop  \\\n",
       "0                 NaN             0.0              0.0            0.0   \n",
       "1                 NaN             0.0              0.0            0.0   \n",
       "2                 NaN             0.0              0.0            0.0   \n",
       "3                 NaN             0.0              0.0            0.0   \n",
       "4                 NaN             0.0              0.0            0.0   \n",
       "\n",
       "   asian_jail_pop  black_jail_pop  latino_jail_pop  native_jail_pop  \\\n",
       "0             NaN             NaN              NaN              NaN   \n",
       "1             NaN             NaN              NaN              NaN   \n",
       "2             NaN             NaN              NaN              NaN   \n",
       "3             NaN             NaN              NaN              NaN   \n",
       "4             NaN             NaN              NaN              NaN   \n",
       "\n",
       "   white_jail_pop  total_jail_pretrial  female_jail_pretrial  \\\n",
       "0             NaN                  0.0                   0.0   \n",
       "1             NaN                  0.0                   0.0   \n",
       "2             NaN                  0.0                   0.0   \n",
       "3             NaN                  0.0                   0.0   \n",
       "4             NaN                  0.0                   0.0   \n",
       "\n",
       "   male_jail_pretrial  jail_from_state_prison  jail_from_other_state_prison  \\\n",
       "0                 0.0                     0.0                           0.0   \n",
       "1                 0.0                     0.0                           0.0   \n",
       "2                 0.0                     0.0                           0.0   \n",
       "3                 0.0                     0.0                           0.0   \n",
       "4                 0.0                     0.0                           0.0   \n",
       "\n",
       "   jail_from_state_jail  jail_from_other_state_jail  jail_from_fed  \\\n",
       "0                   0.0                         0.0            0.0   \n",
       "1                   0.0                         0.0            0.0   \n",
       "2                   0.0                         0.0            0.0   \n",
       "3                   0.0                         0.0            0.0   \n",
       "4                   0.0                         0.0            0.0   \n",
       "\n",
       "   jail_from_ice  total_jail_pop_dcrp  female_jail_pop_dcrp  \\\n",
       "0            0.0                  NaN                   NaN   \n",
       "1            0.0                  NaN                   NaN   \n",
       "2            0.0                  NaN                   NaN   \n",
       "3            0.0                  NaN                   NaN   \n",
       "4            0.0                  NaN                   NaN   \n",
       "\n",
       "   male_jail_pop_dcrp  total_prison_pop  female_prison_pop  male_prison_pop  \\\n",
       "0                 NaN               NaN                NaN              NaN   \n",
       "1                 NaN               NaN                NaN              NaN   \n",
       "2                 NaN               NaN                NaN              NaN   \n",
       "3                 NaN               NaN                NaN              NaN   \n",
       "4                 NaN               NaN                NaN              NaN   \n",
       "\n",
       "   asian_prison_pop  black_prison_pop  latino_prison_pop  native_prison_pop  \\\n",
       "0               NaN               NaN                NaN                NaN   \n",
       "1               NaN               NaN                NaN                NaN   \n",
       "2               NaN               NaN                NaN                NaN   \n",
       "3               NaN               NaN                NaN                NaN   \n",
       "4               NaN               NaN                NaN                NaN   \n",
       "\n",
       "   other_prison_pop  white_prison_pop  total_prison_adm  female_prison_adm  \\\n",
       "0               NaN               NaN               NaN                NaN   \n",
       "1               NaN               NaN               NaN                NaN   \n",
       "2               NaN               NaN               NaN                NaN   \n",
       "3               NaN               NaN               NaN                NaN   \n",
       "4               NaN               NaN               NaN                NaN   \n",
       "\n",
       "   male_prison_adm  asian_prison_adm  black_prison_adm  latino_prison_adm  \\\n",
       "0              NaN               NaN               NaN                NaN   \n",
       "1              NaN               NaN               NaN                NaN   \n",
       "2              NaN               NaN               NaN                NaN   \n",
       "3              NaN               NaN               NaN                NaN   \n",
       "4              NaN               NaN               NaN                NaN   \n",
       "\n",
       "   native_prison_adm  other_prison_adm  white_prison_adm  num_facilites  \\\n",
       "0                NaN               NaN               NaN            0.0   \n",
       "1                NaN               NaN               NaN            0.0   \n",
       "2                NaN               NaN               NaN            0.0   \n",
       "3                NaN               NaN               NaN            0.0   \n",
       "4                NaN               NaN               NaN            0.0   \n",
       "\n",
       "   num_employees  confined_pop  capacity  ucr_population  index_crime  \\\n",
       "0            0.0           0.0       0.0             NaN          NaN   \n",
       "1            0.0           0.0       0.0             NaN          NaN   \n",
       "2            0.0           0.0       0.0             NaN          NaN   \n",
       "3            0.0           0.0       0.0             NaN          NaN   \n",
       "4            0.0           0.0       0.0             NaN          NaN   \n",
       "\n",
       "   violent_crime  property_crime  murder_crime  rape_crime  robbery_crime  \\\n",
       "0            NaN             NaN           NaN         NaN            NaN   \n",
       "1            NaN             NaN           NaN         NaN            NaN   \n",
       "2            NaN             NaN           NaN         NaN            NaN   \n",
       "3            NaN             NaN           NaN         NaN            NaN   \n",
       "4            NaN             NaN           NaN         NaN            NaN   \n",
       "\n",
       "   agr_assault_crime  burglary_crime  larceny_crime  mv_theft_crime  \\\n",
       "0                NaN             NaN            NaN             NaN   \n",
       "1                NaN             NaN            NaN             NaN   \n",
       "2                NaN             NaN            NaN             NaN   \n",
       "3                NaN             NaN            NaN             NaN   \n",
       "4                NaN             NaN            NaN             NaN   \n",
       "\n",
       "   arson_crime  \n",
       "0          NaN  \n",
       "1          NaN  \n",
       "2          NaN  \n",
       "3          NaN  \n",
       "4          NaN  "
      ]
     },
     "execution_count": 8,
     "metadata": {},
     "output_type": "execute_result"
    }
   ],
   "source": [
    "df.head()"
   ]
  },
  {
   "cell_type": "code",
   "execution_count": 18,
   "metadata": {},
   "outputs": [],
   "source": [
    "alameda = df[df.county_name=='Alameda County']"
   ]
  },
  {
   "cell_type": "code",
   "execution_count": 15,
   "metadata": {},
   "outputs": [
    {
     "ename": "ModuleNotFoundError",
     "evalue": "No module named 'vega_datasets'",
     "output_type": "error",
     "traceback": [
      "\u001b[0;31m---------------------------------------------------------------------------\u001b[0m",
      "\u001b[0;31mModuleNotFoundError\u001b[0m                       Traceback (most recent call last)",
      "\u001b[0;32m<ipython-input-15-a187b7136b26>\u001b[0m in \u001b[0;36m<module>\u001b[0;34m\u001b[0m\n\u001b[1;32m      1\u001b[0m \u001b[0;32mimport\u001b[0m \u001b[0maltair\u001b[0m \u001b[0;32mas\u001b[0m \u001b[0malt\u001b[0m\u001b[0;34m\u001b[0m\u001b[0;34m\u001b[0m\u001b[0m\n\u001b[0;32m----> 2\u001b[0;31m \u001b[0;32mfrom\u001b[0m \u001b[0mvega_datasets\u001b[0m \u001b[0;32mimport\u001b[0m \u001b[0mdata\u001b[0m\u001b[0;34m\u001b[0m\u001b[0;34m\u001b[0m\u001b[0m\n\u001b[0m\u001b[1;32m      3\u001b[0m \u001b[0;34m\u001b[0m\u001b[0m\n\u001b[1;32m      4\u001b[0m \u001b[0msource\u001b[0m \u001b[0;34m=\u001b[0m \u001b[0mdata\u001b[0m\u001b[0;34m.\u001b[0m\u001b[0mdisasters\u001b[0m\u001b[0;34m.\u001b[0m\u001b[0murl\u001b[0m\u001b[0;34m\u001b[0m\u001b[0;34m\u001b[0m\u001b[0m\n\u001b[1;32m      5\u001b[0m \u001b[0;34m\u001b[0m\u001b[0m\n",
      "\u001b[0;31mModuleNotFoundError\u001b[0m: No module named 'vega_datasets'"
     ]
    }
   ],
   "source": [
    "import altair as alt\n",
    "from vega_datasets import data\n",
    "\n",
    "source = data.disasters.url\n",
    "\n",
    "alt.Chart(source).mark_circle(\n",
    "    opacity=0.8,\n",
    "    stroke='black',\n",
    "    strokeWidth=1\n",
    ").encode(\n",
    "    alt.X('Year:O', axis=alt.Axis(labelAngle=0)),\n",
    "    alt.Y('Entity:N'),\n",
    "    alt.Size('Deaths:Q',\n",
    "        scale=alt.Scale(range=[0, 4000]),\n",
    "        legend=alt.Legend(title='Annual Global Deaths')\n",
    "    ),\n",
    "    alt.Color('Entity:N', legend=None)\n",
    ").properties(\n",
    "    width=450,\n",
    "    height=320\n",
    ").transform_filter(\n",
    "    alt.datum.Entity != 'All natural disasters'\n",
    ")"
   ]
  },
  {
   "cell_type": "code",
   "execution_count": 86,
   "metadata": {},
   "outputs": [],
   "source": [
    "deer = df[df.county_name=='Deer Lodge County']"
   ]
  },
  {
   "cell_type": "code",
   "execution_count": 62,
   "metadata": {},
   "outputs": [],
   "source": [
    "crimes = [\n",
    "    'violent_crime',\n",
    "    'property_crime',\n",
    "    'murder_crime',\n",
    "    'robbery_crime',\n",
    "    'agr_assault_crime',\n",
    "    'burglary_crime',\n",
    "    'larceny_crime',\n",
    "    'mv_theft_crime',\n",
    "    'arson_crime'\n",
    "]"
   ]
  },
  {
   "cell_type": "code",
   "execution_count": 87,
   "metadata": {},
   "outputs": [],
   "source": [
    "source = pd.melt(deer, id_vars=['year'], value_vars=crimes, var_name='Crime', value_name='Number')"
   ]
  },
  {
   "cell_type": "code",
   "execution_count": 55,
   "metadata": {},
   "outputs": [],
   "source": [
    "# Function to reformat race crime labels\n",
    "def label_crimes(row):\n",
    "    if row['Crime'] == 'violent_crime':\n",
    "        return 'Violent crime'\n",
    "    if row['Crime'] == 'property_crime':\n",
    "        return 'Property crime'\n",
    "    if row['Crime'] == 'murder_crime':\n",
    "        return 'Murder'\n",
    "    if row['Crime'] == 'robbery_crime':\n",
    "        return 'Robbery'\n",
    "    if row['Crime'] == 'agr_assault_crime':\n",
    "        return 'Aggravated assault'\n",
    "    if row['Crime'] == 'burglary_crime':\n",
    "        return 'Burglary'\n",
    "    if row['Crime'] == 'larceny_crime':\n",
    "        return 'Larceny'\n",
    "    if row['Crime'] == 'mv_theft_crime':\n",
    "        return 'Motor vehicle theft'\n",
    "    if row['Crime'] == 'arson_crime':\n",
    "        return 'Arson'"
   ]
  },
  {
   "cell_type": "code",
   "execution_count": 88,
   "metadata": {},
   "outputs": [],
   "source": [
    "source['Crime'] = source.apply (lambda row: label_crimes(row), axis=1)"
   ]
  },
  {
   "cell_type": "code",
   "execution_count": 89,
   "metadata": {},
   "outputs": [
    {
     "data": {
      "text/html": [
       "<div>\n",
       "<style scoped>\n",
       "    .dataframe tbody tr th:only-of-type {\n",
       "        vertical-align: middle;\n",
       "    }\n",
       "\n",
       "    .dataframe tbody tr th {\n",
       "        vertical-align: top;\n",
       "    }\n",
       "\n",
       "    .dataframe thead th {\n",
       "        text-align: right;\n",
       "    }\n",
       "</style>\n",
       "<table border=\"1\" class=\"dataframe\">\n",
       "  <thead>\n",
       "    <tr style=\"text-align: right;\">\n",
       "      <th></th>\n",
       "      <th>year</th>\n",
       "      <th>Crime</th>\n",
       "      <th>Number</th>\n",
       "    </tr>\n",
       "  </thead>\n",
       "  <tbody>\n",
       "    <tr>\n",
       "      <th>0</th>\n",
       "      <td>1970</td>\n",
       "      <td>Violent crime</td>\n",
       "      <td>NaN</td>\n",
       "    </tr>\n",
       "    <tr>\n",
       "      <th>1</th>\n",
       "      <td>1971</td>\n",
       "      <td>Violent crime</td>\n",
       "      <td>NaN</td>\n",
       "    </tr>\n",
       "    <tr>\n",
       "      <th>2</th>\n",
       "      <td>1972</td>\n",
       "      <td>Violent crime</td>\n",
       "      <td>NaN</td>\n",
       "    </tr>\n",
       "    <tr>\n",
       "      <th>3</th>\n",
       "      <td>1973</td>\n",
       "      <td>Violent crime</td>\n",
       "      <td>NaN</td>\n",
       "    </tr>\n",
       "    <tr>\n",
       "      <th>4</th>\n",
       "      <td>1974</td>\n",
       "      <td>Violent crime</td>\n",
       "      <td>NaN</td>\n",
       "    </tr>\n",
       "  </tbody>\n",
       "</table>\n",
       "</div>"
      ],
      "text/plain": [
       "   year          Crime  Number\n",
       "0  1970  Violent crime     NaN\n",
       "1  1971  Violent crime     NaN\n",
       "2  1972  Violent crime     NaN\n",
       "3  1973  Violent crime     NaN\n",
       "4  1974  Violent crime     NaN"
      ]
     },
     "execution_count": 89,
     "metadata": {},
     "output_type": "execute_result"
    }
   ],
   "source": [
    "source.head()"
   ]
  },
  {
   "cell_type": "code",
   "execution_count": 90,
   "metadata": {},
   "outputs": [
    {
     "data": {
      "text/plain": [
       "524.0"
      ]
     },
     "execution_count": 90,
     "metadata": {},
     "output_type": "execute_result"
    }
   ],
   "source": [
    "source['Number'].max()"
   ]
  },
  {
   "cell_type": "code",
   "execution_count": 99,
   "metadata": {},
   "outputs": [
    {
     "data": {
      "application/vnd.vegalite.v2+json": {
       "$schema": "https://vega.github.io/schema/vega-lite/v2.6.0.json",
       "config": {
        "view": {
         "height": 300,
         "width": 400
        }
       },
       "data": {
        "name": "data-efc378d7651bdd559fa8b12eb9512436"
       },
       "datasets": {
        "data-efc378d7651bdd559fa8b12eb9512436": [
         {
          "Crime": "Violent crime",
          "Number": null,
          "year": 1970
         },
         {
          "Crime": "Violent crime",
          "Number": null,
          "year": 1971
         },
         {
          "Crime": "Violent crime",
          "Number": null,
          "year": 1972
         },
         {
          "Crime": "Violent crime",
          "Number": null,
          "year": 1973
         },
         {
          "Crime": "Violent crime",
          "Number": null,
          "year": 1974
         },
         {
          "Crime": "Violent crime",
          "Number": null,
          "year": 1975
         },
         {
          "Crime": "Violent crime",
          "Number": null,
          "year": 1976
         },
         {
          "Crime": "Violent crime",
          "Number": 18,
          "year": 1977
         },
         {
          "Crime": "Violent crime",
          "Number": 13,
          "year": 1978
         },
         {
          "Crime": "Violent crime",
          "Number": null,
          "year": 1979
         },
         {
          "Crime": "Violent crime",
          "Number": null,
          "year": 1980
         },
         {
          "Crime": "Violent crime",
          "Number": null,
          "year": 1981
         },
         {
          "Crime": "Violent crime",
          "Number": 15,
          "year": 1982
         },
         {
          "Crime": "Violent crime",
          "Number": 29,
          "year": 1983
         },
         {
          "Crime": "Violent crime",
          "Number": 28,
          "year": 1984
         },
         {
          "Crime": "Violent crime",
          "Number": 29,
          "year": 1985
         },
         {
          "Crime": "Violent crime",
          "Number": 24,
          "year": 1986
         },
         {
          "Crime": "Violent crime",
          "Number": 17,
          "year": 1987
         },
         {
          "Crime": "Violent crime",
          "Number": 6,
          "year": 1988
         },
         {
          "Crime": "Violent crime",
          "Number": 10,
          "year": 1989
         },
         {
          "Crime": "Violent crime",
          "Number": 8,
          "year": 1990
         },
         {
          "Crime": "Violent crime",
          "Number": 3,
          "year": 1991
         },
         {
          "Crime": "Violent crime",
          "Number": 18,
          "year": 1992
         },
         {
          "Crime": "Violent crime",
          "Number": null,
          "year": 1993
         },
         {
          "Crime": "Violent crime",
          "Number": 0,
          "year": 1994
         },
         {
          "Crime": "Violent crime",
          "Number": 0,
          "year": 1995
         },
         {
          "Crime": "Violent crime",
          "Number": 0,
          "year": 1996
         },
         {
          "Crime": "Violent crime",
          "Number": 11,
          "year": 1997
         },
         {
          "Crime": "Violent crime",
          "Number": 13,
          "year": 1998
         },
         {
          "Crime": "Violent crime",
          "Number": 12,
          "year": 1999
         },
         {
          "Crime": "Violent crime",
          "Number": 224,
          "year": 2000
         },
         {
          "Crime": "Violent crime",
          "Number": 0,
          "year": 2001
         },
         {
          "Crime": "Violent crime",
          "Number": 53,
          "year": 2002
         },
         {
          "Crime": "Violent crime",
          "Number": 43,
          "year": 2003
         },
         {
          "Crime": "Violent crime",
          "Number": 55,
          "year": 2004
         },
         {
          "Crime": "Violent crime",
          "Number": 20,
          "year": 2005
         },
         {
          "Crime": "Violent crime",
          "Number": 36,
          "year": 2006
         },
         {
          "Crime": "Violent crime",
          "Number": 27,
          "year": 2007
         },
         {
          "Crime": "Violent crime",
          "Number": 28,
          "year": 2008
         },
         {
          "Crime": "Violent crime",
          "Number": 31,
          "year": 2009
         },
         {
          "Crime": "Violent crime",
          "Number": 43,
          "year": 2010
         },
         {
          "Crime": "Violent crime",
          "Number": 25,
          "year": 2011
         },
         {
          "Crime": "Violent crime",
          "Number": 27,
          "year": 2012
         },
         {
          "Crime": "Violent crime",
          "Number": 27,
          "year": 2013
         },
         {
          "Crime": "Violent crime",
          "Number": 35,
          "year": 2014
         },
         {
          "Crime": "Violent crime",
          "Number": null,
          "year": 2015
         },
         {
          "Crime": "Violent crime",
          "Number": null,
          "year": 2016
         },
         {
          "Crime": "Property crime",
          "Number": null,
          "year": 1970
         },
         {
          "Crime": "Property crime",
          "Number": null,
          "year": 1971
         },
         {
          "Crime": "Property crime",
          "Number": null,
          "year": 1972
         },
         {
          "Crime": "Property crime",
          "Number": null,
          "year": 1973
         },
         {
          "Crime": "Property crime",
          "Number": null,
          "year": 1974
         },
         {
          "Crime": "Property crime",
          "Number": null,
          "year": 1975
         },
         {
          "Crime": "Property crime",
          "Number": null,
          "year": 1976
         },
         {
          "Crime": "Property crime",
          "Number": 139,
          "year": 1977
         },
         {
          "Crime": "Property crime",
          "Number": 91,
          "year": 1978
         },
         {
          "Crime": "Property crime",
          "Number": null,
          "year": 1979
         },
         {
          "Crime": "Property crime",
          "Number": null,
          "year": 1980
         },
         {
          "Crime": "Property crime",
          "Number": null,
          "year": 1981
         },
         {
          "Crime": "Property crime",
          "Number": 349,
          "year": 1982
         },
         {
          "Crime": "Property crime",
          "Number": 358,
          "year": 1983
         },
         {
          "Crime": "Property crime",
          "Number": 462,
          "year": 1984
         },
         {
          "Crime": "Property crime",
          "Number": 492,
          "year": 1985
         },
         {
          "Crime": "Property crime",
          "Number": 318,
          "year": 1986
         },
         {
          "Crime": "Property crime",
          "Number": 524,
          "year": 1987
         },
         {
          "Crime": "Property crime",
          "Number": 518,
          "year": 1988
         },
         {
          "Crime": "Property crime",
          "Number": 386,
          "year": 1989
         },
         {
          "Crime": "Property crime",
          "Number": 429,
          "year": 1990
         },
         {
          "Crime": "Property crime",
          "Number": 164,
          "year": 1991
         },
         {
          "Crime": "Property crime",
          "Number": 448,
          "year": 1992
         },
         {
          "Crime": "Property crime",
          "Number": null,
          "year": 1993
         },
         {
          "Crime": "Property crime",
          "Number": 0,
          "year": 1994
         },
         {
          "Crime": "Property crime",
          "Number": 0,
          "year": 1995
         },
         {
          "Crime": "Property crime",
          "Number": 0,
          "year": 1996
         },
         {
          "Crime": "Property crime",
          "Number": 319,
          "year": 1997
         },
         {
          "Crime": "Property crime",
          "Number": 291,
          "year": 1998
         },
         {
          "Crime": "Property crime",
          "Number": 231,
          "year": 1999
         },
         {
          "Crime": "Property crime",
          "Number": 279,
          "year": 2000
         },
         {
          "Crime": "Property crime",
          "Number": 0,
          "year": 2001
         },
         {
          "Crime": "Property crime",
          "Number": 134,
          "year": 2002
         },
         {
          "Crime": "Property crime",
          "Number": 126,
          "year": 2003
         },
         {
          "Crime": "Property crime",
          "Number": 186,
          "year": 2004
         },
         {
          "Crime": "Property crime",
          "Number": 151,
          "year": 2005
         },
         {
          "Crime": "Property crime",
          "Number": 103,
          "year": 2006
         },
         {
          "Crime": "Property crime",
          "Number": 100,
          "year": 2007
         },
         {
          "Crime": "Property crime",
          "Number": 140,
          "year": 2008
         },
         {
          "Crime": "Property crime",
          "Number": 150,
          "year": 2009
         },
         {
          "Crime": "Property crime",
          "Number": 207,
          "year": 2010
         },
         {
          "Crime": "Property crime",
          "Number": 163,
          "year": 2011
         },
         {
          "Crime": "Property crime",
          "Number": 184,
          "year": 2012
         },
         {
          "Crime": "Property crime",
          "Number": 198,
          "year": 2013
         },
         {
          "Crime": "Property crime",
          "Number": 207,
          "year": 2014
         },
         {
          "Crime": "Property crime",
          "Number": null,
          "year": 2015
         },
         {
          "Crime": "Property crime",
          "Number": null,
          "year": 2016
         },
         {
          "Crime": "Murder",
          "Number": null,
          "year": 1970
         },
         {
          "Crime": "Murder",
          "Number": null,
          "year": 1971
         },
         {
          "Crime": "Murder",
          "Number": null,
          "year": 1972
         },
         {
          "Crime": "Murder",
          "Number": null,
          "year": 1973
         },
         {
          "Crime": "Murder",
          "Number": null,
          "year": 1974
         },
         {
          "Crime": "Murder",
          "Number": null,
          "year": 1975
         },
         {
          "Crime": "Murder",
          "Number": null,
          "year": 1976
         },
         {
          "Crime": "Murder",
          "Number": 0,
          "year": 1977
         },
         {
          "Crime": "Murder",
          "Number": 0,
          "year": 1978
         },
         {
          "Crime": "Murder",
          "Number": null,
          "year": 1979
         },
         {
          "Crime": "Murder",
          "Number": null,
          "year": 1980
         },
         {
          "Crime": "Murder",
          "Number": null,
          "year": 1981
         },
         {
          "Crime": "Murder",
          "Number": 0,
          "year": 1982
         },
         {
          "Crime": "Murder",
          "Number": 2,
          "year": 1983
         },
         {
          "Crime": "Murder",
          "Number": 0,
          "year": 1984
         },
         {
          "Crime": "Murder",
          "Number": 2,
          "year": 1985
         },
         {
          "Crime": "Murder",
          "Number": 0,
          "year": 1986
         },
         {
          "Crime": "Murder",
          "Number": 1,
          "year": 1987
         },
         {
          "Crime": "Murder",
          "Number": 0,
          "year": 1988
         },
         {
          "Crime": "Murder",
          "Number": 2,
          "year": 1989
         },
         {
          "Crime": "Murder",
          "Number": 0,
          "year": 1990
         },
         {
          "Crime": "Murder",
          "Number": 0,
          "year": 1991
         },
         {
          "Crime": "Murder",
          "Number": 0,
          "year": 1992
         },
         {
          "Crime": "Murder",
          "Number": null,
          "year": 1993
         },
         {
          "Crime": "Murder",
          "Number": 0,
          "year": 1994
         },
         {
          "Crime": "Murder",
          "Number": 0,
          "year": 1995
         },
         {
          "Crime": "Murder",
          "Number": 0,
          "year": 1996
         },
         {
          "Crime": "Murder",
          "Number": 0,
          "year": 1997
         },
         {
          "Crime": "Murder",
          "Number": 0,
          "year": 1998
         },
         {
          "Crime": "Murder",
          "Number": 0,
          "year": 1999
         },
         {
          "Crime": "Murder",
          "Number": 2,
          "year": 2000
         },
         {
          "Crime": "Murder",
          "Number": 0,
          "year": 2001
         },
         {
          "Crime": "Murder",
          "Number": 0,
          "year": 2002
         },
         {
          "Crime": "Murder",
          "Number": 1,
          "year": 2003
         },
         {
          "Crime": "Murder",
          "Number": 0,
          "year": 2004
         },
         {
          "Crime": "Murder",
          "Number": 0,
          "year": 2005
         },
         {
          "Crime": "Murder",
          "Number": 1,
          "year": 2006
         },
         {
          "Crime": "Murder",
          "Number": 0,
          "year": 2007
         },
         {
          "Crime": "Murder",
          "Number": 0,
          "year": 2008
         },
         {
          "Crime": "Murder",
          "Number": 0,
          "year": 2009
         },
         {
          "Crime": "Murder",
          "Number": 1,
          "year": 2010
         },
         {
          "Crime": "Murder",
          "Number": 0,
          "year": 2011
         },
         {
          "Crime": "Murder",
          "Number": 1,
          "year": 2012
         },
         {
          "Crime": "Murder",
          "Number": 2,
          "year": 2013
         },
         {
          "Crime": "Murder",
          "Number": 0,
          "year": 2014
         },
         {
          "Crime": "Murder",
          "Number": null,
          "year": 2015
         },
         {
          "Crime": "Murder",
          "Number": null,
          "year": 2016
         },
         {
          "Crime": "Robbery",
          "Number": null,
          "year": 1970
         },
         {
          "Crime": "Robbery",
          "Number": null,
          "year": 1971
         },
         {
          "Crime": "Robbery",
          "Number": null,
          "year": 1972
         },
         {
          "Crime": "Robbery",
          "Number": null,
          "year": 1973
         },
         {
          "Crime": "Robbery",
          "Number": null,
          "year": 1974
         },
         {
          "Crime": "Robbery",
          "Number": null,
          "year": 1975
         },
         {
          "Crime": "Robbery",
          "Number": null,
          "year": 1976
         },
         {
          "Crime": "Robbery",
          "Number": 0,
          "year": 1977
         },
         {
          "Crime": "Robbery",
          "Number": 0,
          "year": 1978
         },
         {
          "Crime": "Robbery",
          "Number": null,
          "year": 1979
         },
         {
          "Crime": "Robbery",
          "Number": null,
          "year": 1980
         },
         {
          "Crime": "Robbery",
          "Number": null,
          "year": 1981
         },
         {
          "Crime": "Robbery",
          "Number": 0,
          "year": 1982
         },
         {
          "Crime": "Robbery",
          "Number": 2,
          "year": 1983
         },
         {
          "Crime": "Robbery",
          "Number": 0,
          "year": 1984
         },
         {
          "Crime": "Robbery",
          "Number": 0,
          "year": 1985
         },
         {
          "Crime": "Robbery",
          "Number": 0,
          "year": 1986
         },
         {
          "Crime": "Robbery",
          "Number": 0,
          "year": 1987
         },
         {
          "Crime": "Robbery",
          "Number": 0,
          "year": 1988
         },
         {
          "Crime": "Robbery",
          "Number": 0,
          "year": 1989
         },
         {
          "Crime": "Robbery",
          "Number": 0,
          "year": 1990
         },
         {
          "Crime": "Robbery",
          "Number": 1,
          "year": 1991
         },
         {
          "Crime": "Robbery",
          "Number": 1,
          "year": 1992
         },
         {
          "Crime": "Robbery",
          "Number": null,
          "year": 1993
         },
         {
          "Crime": "Robbery",
          "Number": 0,
          "year": 1994
         },
         {
          "Crime": "Robbery",
          "Number": 0,
          "year": 1995
         },
         {
          "Crime": "Robbery",
          "Number": 0,
          "year": 1996
         },
         {
          "Crime": "Robbery",
          "Number": 0,
          "year": 1997
         },
         {
          "Crime": "Robbery",
          "Number": 1,
          "year": 1998
         },
         {
          "Crime": "Robbery",
          "Number": 1,
          "year": 1999
         },
         {
          "Crime": "Robbery",
          "Number": 0,
          "year": 2000
         },
         {
          "Crime": "Robbery",
          "Number": 0,
          "year": 2001
         },
         {
          "Crime": "Robbery",
          "Number": 0,
          "year": 2002
         },
         {
          "Crime": "Robbery",
          "Number": 3,
          "year": 2003
         },
         {
          "Crime": "Robbery",
          "Number": 2,
          "year": 2004
         },
         {
          "Crime": "Robbery",
          "Number": 0,
          "year": 2005
         },
         {
          "Crime": "Robbery",
          "Number": 0,
          "year": 2006
         },
         {
          "Crime": "Robbery",
          "Number": 0,
          "year": 2007
         },
         {
          "Crime": "Robbery",
          "Number": 0,
          "year": 2008
         },
         {
          "Crime": "Robbery",
          "Number": 0,
          "year": 2009
         },
         {
          "Crime": "Robbery",
          "Number": 0,
          "year": 2010
         },
         {
          "Crime": "Robbery",
          "Number": 1,
          "year": 2011
         },
         {
          "Crime": "Robbery",
          "Number": 0,
          "year": 2012
         },
         {
          "Crime": "Robbery",
          "Number": 0,
          "year": 2013
         },
         {
          "Crime": "Robbery",
          "Number": 0,
          "year": 2014
         },
         {
          "Crime": "Robbery",
          "Number": null,
          "year": 2015
         },
         {
          "Crime": "Robbery",
          "Number": null,
          "year": 2016
         },
         {
          "Crime": "Aggravated assault",
          "Number": null,
          "year": 1970
         },
         {
          "Crime": "Aggravated assault",
          "Number": null,
          "year": 1971
         },
         {
          "Crime": "Aggravated assault",
          "Number": null,
          "year": 1972
         },
         {
          "Crime": "Aggravated assault",
          "Number": null,
          "year": 1973
         },
         {
          "Crime": "Aggravated assault",
          "Number": null,
          "year": 1974
         },
         {
          "Crime": "Aggravated assault",
          "Number": null,
          "year": 1975
         },
         {
          "Crime": "Aggravated assault",
          "Number": null,
          "year": 1976
         },
         {
          "Crime": "Aggravated assault",
          "Number": 18,
          "year": 1977
         },
         {
          "Crime": "Aggravated assault",
          "Number": 13,
          "year": 1978
         },
         {
          "Crime": "Aggravated assault",
          "Number": null,
          "year": 1979
         },
         {
          "Crime": "Aggravated assault",
          "Number": null,
          "year": 1980
         },
         {
          "Crime": "Aggravated assault",
          "Number": null,
          "year": 1981
         },
         {
          "Crime": "Aggravated assault",
          "Number": 15,
          "year": 1982
         },
         {
          "Crime": "Aggravated assault",
          "Number": 24,
          "year": 1983
         },
         {
          "Crime": "Aggravated assault",
          "Number": 24,
          "year": 1984
         },
         {
          "Crime": "Aggravated assault",
          "Number": 21,
          "year": 1985
         },
         {
          "Crime": "Aggravated assault",
          "Number": 23,
          "year": 1986
         },
         {
          "Crime": "Aggravated assault",
          "Number": 14,
          "year": 1987
         },
         {
          "Crime": "Aggravated assault",
          "Number": 6,
          "year": 1988
         },
         {
          "Crime": "Aggravated assault",
          "Number": 8,
          "year": 1989
         },
         {
          "Crime": "Aggravated assault",
          "Number": 8,
          "year": 1990
         },
         {
          "Crime": "Aggravated assault",
          "Number": 2,
          "year": 1991
         },
         {
          "Crime": "Aggravated assault",
          "Number": 16,
          "year": 1992
         },
         {
          "Crime": "Aggravated assault",
          "Number": null,
          "year": 1993
         },
         {
          "Crime": "Aggravated assault",
          "Number": 0,
          "year": 1994
         },
         {
          "Crime": "Aggravated assault",
          "Number": 0,
          "year": 1995
         },
         {
          "Crime": "Aggravated assault",
          "Number": 0,
          "year": 1996
         },
         {
          "Crime": "Aggravated assault",
          "Number": 11,
          "year": 1997
         },
         {
          "Crime": "Aggravated assault",
          "Number": 12,
          "year": 1998
         },
         {
          "Crime": "Aggravated assault",
          "Number": 11,
          "year": 1999
         },
         {
          "Crime": "Aggravated assault",
          "Number": 219,
          "year": 2000
         },
         {
          "Crime": "Aggravated assault",
          "Number": 0,
          "year": 2001
         },
         {
          "Crime": "Aggravated assault",
          "Number": 53,
          "year": 2002
         },
         {
          "Crime": "Aggravated assault",
          "Number": 39,
          "year": 2003
         },
         {
          "Crime": "Aggravated assault",
          "Number": 53,
          "year": 2004
         },
         {
          "Crime": "Aggravated assault",
          "Number": 20,
          "year": 2005
         },
         {
          "Crime": "Aggravated assault",
          "Number": 30,
          "year": 2006
         },
         {
          "Crime": "Aggravated assault",
          "Number": 23,
          "year": 2007
         },
         {
          "Crime": "Aggravated assault",
          "Number": 27,
          "year": 2008
         },
         {
          "Crime": "Aggravated assault",
          "Number": 30,
          "year": 2009
         },
         {
          "Crime": "Aggravated assault",
          "Number": 37,
          "year": 2010
         },
         {
          "Crime": "Aggravated assault",
          "Number": 20,
          "year": 2011
         },
         {
          "Crime": "Aggravated assault",
          "Number": 21,
          "year": 2012
         },
         {
          "Crime": "Aggravated assault",
          "Number": 19,
          "year": 2013
         },
         {
          "Crime": "Aggravated assault",
          "Number": 34,
          "year": 2014
         },
         {
          "Crime": "Aggravated assault",
          "Number": null,
          "year": 2015
         },
         {
          "Crime": "Aggravated assault",
          "Number": null,
          "year": 2016
         },
         {
          "Crime": "Burglary",
          "Number": null,
          "year": 1970
         },
         {
          "Crime": "Burglary",
          "Number": null,
          "year": 1971
         },
         {
          "Crime": "Burglary",
          "Number": null,
          "year": 1972
         },
         {
          "Crime": "Burglary",
          "Number": null,
          "year": 1973
         },
         {
          "Crime": "Burglary",
          "Number": null,
          "year": 1974
         },
         {
          "Crime": "Burglary",
          "Number": null,
          "year": 1975
         },
         {
          "Crime": "Burglary",
          "Number": null,
          "year": 1976
         },
         {
          "Crime": "Burglary",
          "Number": 54,
          "year": 1977
         },
         {
          "Crime": "Burglary",
          "Number": 24,
          "year": 1978
         },
         {
          "Crime": "Burglary",
          "Number": null,
          "year": 1979
         },
         {
          "Crime": "Burglary",
          "Number": null,
          "year": 1980
         },
         {
          "Crime": "Burglary",
          "Number": null,
          "year": 1981
         },
         {
          "Crime": "Burglary",
          "Number": 122,
          "year": 1982
         },
         {
          "Crime": "Burglary",
          "Number": 93,
          "year": 1983
         },
         {
          "Crime": "Burglary",
          "Number": 160,
          "year": 1984
         },
         {
          "Crime": "Burglary",
          "Number": 142,
          "year": 1985
         },
         {
          "Crime": "Burglary",
          "Number": 116,
          "year": 1986
         },
         {
          "Crime": "Burglary",
          "Number": 142,
          "year": 1987
         },
         {
          "Crime": "Burglary",
          "Number": 118,
          "year": 1988
         },
         {
          "Crime": "Burglary",
          "Number": 176,
          "year": 1989
         },
         {
          "Crime": "Burglary",
          "Number": 137,
          "year": 1990
         },
         {
          "Crime": "Burglary",
          "Number": 29,
          "year": 1991
         },
         {
          "Crime": "Burglary",
          "Number": 84,
          "year": 1992
         },
         {
          "Crime": "Burglary",
          "Number": null,
          "year": 1993
         },
         {
          "Crime": "Burglary",
          "Number": 0,
          "year": 1994
         },
         {
          "Crime": "Burglary",
          "Number": 0,
          "year": 1995
         },
         {
          "Crime": "Burglary",
          "Number": 0,
          "year": 1996
         },
         {
          "Crime": "Burglary",
          "Number": 39,
          "year": 1997
         },
         {
          "Crime": "Burglary",
          "Number": 45,
          "year": 1998
         },
         {
          "Crime": "Burglary",
          "Number": 52,
          "year": 1999
         },
         {
          "Crime": "Burglary",
          "Number": 36,
          "year": 2000
         },
         {
          "Crime": "Burglary",
          "Number": 0,
          "year": 2001
         },
         {
          "Crime": "Burglary",
          "Number": 16,
          "year": 2002
         },
         {
          "Crime": "Burglary",
          "Number": 13,
          "year": 2003
         },
         {
          "Crime": "Burglary",
          "Number": 26,
          "year": 2004
         },
         {
          "Crime": "Burglary",
          "Number": 11,
          "year": 2005
         },
         {
          "Crime": "Burglary",
          "Number": 12,
          "year": 2006
         },
         {
          "Crime": "Burglary",
          "Number": 9,
          "year": 2007
         },
         {
          "Crime": "Burglary",
          "Number": 19,
          "year": 2008
         },
         {
          "Crime": "Burglary",
          "Number": 14,
          "year": 2009
         },
         {
          "Crime": "Burglary",
          "Number": 23,
          "year": 2010
         },
         {
          "Crime": "Burglary",
          "Number": 17,
          "year": 2011
         },
         {
          "Crime": "Burglary",
          "Number": 13,
          "year": 2012
         },
         {
          "Crime": "Burglary",
          "Number": 33,
          "year": 2013
         },
         {
          "Crime": "Burglary",
          "Number": 47,
          "year": 2014
         },
         {
          "Crime": "Burglary",
          "Number": null,
          "year": 2015
         },
         {
          "Crime": "Burglary",
          "Number": null,
          "year": 2016
         },
         {
          "Crime": "Larceny",
          "Number": null,
          "year": 1970
         },
         {
          "Crime": "Larceny",
          "Number": null,
          "year": 1971
         },
         {
          "Crime": "Larceny",
          "Number": null,
          "year": 1972
         },
         {
          "Crime": "Larceny",
          "Number": null,
          "year": 1973
         },
         {
          "Crime": "Larceny",
          "Number": null,
          "year": 1974
         },
         {
          "Crime": "Larceny",
          "Number": null,
          "year": 1975
         },
         {
          "Crime": "Larceny",
          "Number": null,
          "year": 1976
         },
         {
          "Crime": "Larceny",
          "Number": 53,
          "year": 1977
         },
         {
          "Crime": "Larceny",
          "Number": 64,
          "year": 1978
         },
         {
          "Crime": "Larceny",
          "Number": null,
          "year": 1979
         },
         {
          "Crime": "Larceny",
          "Number": null,
          "year": 1980
         },
         {
          "Crime": "Larceny",
          "Number": null,
          "year": 1981
         },
         {
          "Crime": "Larceny",
          "Number": 205,
          "year": 1982
         },
         {
          "Crime": "Larceny",
          "Number": 243,
          "year": 1983
         },
         {
          "Crime": "Larceny",
          "Number": 285,
          "year": 1984
         },
         {
          "Crime": "Larceny",
          "Number": 331,
          "year": 1985
         },
         {
          "Crime": "Larceny",
          "Number": 186,
          "year": 1986
         },
         {
          "Crime": "Larceny",
          "Number": 356,
          "year": 1987
         },
         {
          "Crime": "Larceny",
          "Number": 388,
          "year": 1988
         },
         {
          "Crime": "Larceny",
          "Number": 183,
          "year": 1989
         },
         {
          "Crime": "Larceny",
          "Number": 277,
          "year": 1990
         },
         {
          "Crime": "Larceny",
          "Number": 133,
          "year": 1991
         },
         {
          "Crime": "Larceny",
          "Number": 334,
          "year": 1992
         },
         {
          "Crime": "Larceny",
          "Number": null,
          "year": 1993
         },
         {
          "Crime": "Larceny",
          "Number": 0,
          "year": 1994
         },
         {
          "Crime": "Larceny",
          "Number": 0,
          "year": 1995
         },
         {
          "Crime": "Larceny",
          "Number": 0,
          "year": 1996
         },
         {
          "Crime": "Larceny",
          "Number": 263,
          "year": 1997
         },
         {
          "Crime": "Larceny",
          "Number": 221,
          "year": 1998
         },
         {
          "Crime": "Larceny",
          "Number": 161,
          "year": 1999
         },
         {
          "Crime": "Larceny",
          "Number": 229,
          "year": 2000
         },
         {
          "Crime": "Larceny",
          "Number": 0,
          "year": 2001
         },
         {
          "Crime": "Larceny",
          "Number": 107,
          "year": 2002
         },
         {
          "Crime": "Larceny",
          "Number": 109,
          "year": 2003
         },
         {
          "Crime": "Larceny",
          "Number": 143,
          "year": 2004
         },
         {
          "Crime": "Larceny",
          "Number": 132,
          "year": 2005
         },
         {
          "Crime": "Larceny",
          "Number": 79,
          "year": 2006
         },
         {
          "Crime": "Larceny",
          "Number": 80,
          "year": 2007
         },
         {
          "Crime": "Larceny",
          "Number": 100,
          "year": 2008
         },
         {
          "Crime": "Larceny",
          "Number": 127,
          "year": 2009
         },
         {
          "Crime": "Larceny",
          "Number": 171,
          "year": 2010
         },
         {
          "Crime": "Larceny",
          "Number": 136,
          "year": 2011
         },
         {
          "Crime": "Larceny",
          "Number": 163,
          "year": 2012
         },
         {
          "Crime": "Larceny",
          "Number": 146,
          "year": 2013
         },
         {
          "Crime": "Larceny",
          "Number": 142,
          "year": 2014
         },
         {
          "Crime": "Larceny",
          "Number": null,
          "year": 2015
         },
         {
          "Crime": "Larceny",
          "Number": null,
          "year": 2016
         },
         {
          "Crime": "Motor vehicle theft",
          "Number": null,
          "year": 1970
         },
         {
          "Crime": "Motor vehicle theft",
          "Number": null,
          "year": 1971
         },
         {
          "Crime": "Motor vehicle theft",
          "Number": null,
          "year": 1972
         },
         {
          "Crime": "Motor vehicle theft",
          "Number": null,
          "year": 1973
         },
         {
          "Crime": "Motor vehicle theft",
          "Number": null,
          "year": 1974
         },
         {
          "Crime": "Motor vehicle theft",
          "Number": null,
          "year": 1975
         },
         {
          "Crime": "Motor vehicle theft",
          "Number": null,
          "year": 1976
         },
         {
          "Crime": "Motor vehicle theft",
          "Number": 32,
          "year": 1977
         },
         {
          "Crime": "Motor vehicle theft",
          "Number": 3,
          "year": 1978
         },
         {
          "Crime": "Motor vehicle theft",
          "Number": null,
          "year": 1979
         },
         {
          "Crime": "Motor vehicle theft",
          "Number": null,
          "year": 1980
         },
         {
          "Crime": "Motor vehicle theft",
          "Number": null,
          "year": 1981
         },
         {
          "Crime": "Motor vehicle theft",
          "Number": 21,
          "year": 1982
         },
         {
          "Crime": "Motor vehicle theft",
          "Number": 19,
          "year": 1983
         },
         {
          "Crime": "Motor vehicle theft",
          "Number": 16,
          "year": 1984
         },
         {
          "Crime": "Motor vehicle theft",
          "Number": 19,
          "year": 1985
         },
         {
          "Crime": "Motor vehicle theft",
          "Number": 15,
          "year": 1986
         },
         {
          "Crime": "Motor vehicle theft",
          "Number": 22,
          "year": 1987
         },
         {
          "Crime": "Motor vehicle theft",
          "Number": 11,
          "year": 1988
         },
         {
          "Crime": "Motor vehicle theft",
          "Number": 27,
          "year": 1989
         },
         {
          "Crime": "Motor vehicle theft",
          "Number": 14,
          "year": 1990
         },
         {
          "Crime": "Motor vehicle theft",
          "Number": 2,
          "year": 1991
         },
         {
          "Crime": "Motor vehicle theft",
          "Number": 24,
          "year": 1992
         },
         {
          "Crime": "Motor vehicle theft",
          "Number": null,
          "year": 1993
         },
         {
          "Crime": "Motor vehicle theft",
          "Number": 0,
          "year": 1994
         },
         {
          "Crime": "Motor vehicle theft",
          "Number": 0,
          "year": 1995
         },
         {
          "Crime": "Motor vehicle theft",
          "Number": 0,
          "year": 1996
         },
         {
          "Crime": "Motor vehicle theft",
          "Number": 17,
          "year": 1997
         },
         {
          "Crime": "Motor vehicle theft",
          "Number": 25,
          "year": 1998
         },
         {
          "Crime": "Motor vehicle theft",
          "Number": 17,
          "year": 1999
         },
         {
          "Crime": "Motor vehicle theft",
          "Number": 14,
          "year": 2000
         },
         {
          "Crime": "Motor vehicle theft",
          "Number": 0,
          "year": 2001
         },
         {
          "Crime": "Motor vehicle theft",
          "Number": 11,
          "year": 2002
         },
         {
          "Crime": "Motor vehicle theft",
          "Number": 4,
          "year": 2003
         },
         {
          "Crime": "Motor vehicle theft",
          "Number": 16,
          "year": 2004
         },
         {
          "Crime": "Motor vehicle theft",
          "Number": 8,
          "year": 2005
         },
         {
          "Crime": "Motor vehicle theft",
          "Number": 12,
          "year": 2006
         },
         {
          "Crime": "Motor vehicle theft",
          "Number": 11,
          "year": 2007
         },
         {
          "Crime": "Motor vehicle theft",
          "Number": 20,
          "year": 2008
         },
         {
          "Crime": "Motor vehicle theft",
          "Number": 9,
          "year": 2009
         },
         {
          "Crime": "Motor vehicle theft",
          "Number": 13,
          "year": 2010
         },
         {
          "Crime": "Motor vehicle theft",
          "Number": 8,
          "year": 2011
         },
         {
          "Crime": "Motor vehicle theft",
          "Number": 8,
          "year": 2012
         },
         {
          "Crime": "Motor vehicle theft",
          "Number": 19,
          "year": 2013
         },
         {
          "Crime": "Motor vehicle theft",
          "Number": 17,
          "year": 2014
         },
         {
          "Crime": "Motor vehicle theft",
          "Number": null,
          "year": 2015
         },
         {
          "Crime": "Motor vehicle theft",
          "Number": null,
          "year": 2016
         },
         {
          "Crime": "Arson",
          "Number": null,
          "year": 1970
         },
         {
          "Crime": "Arson",
          "Number": null,
          "year": 1971
         },
         {
          "Crime": "Arson",
          "Number": null,
          "year": 1972
         },
         {
          "Crime": "Arson",
          "Number": null,
          "year": 1973
         },
         {
          "Crime": "Arson",
          "Number": null,
          "year": 1974
         },
         {
          "Crime": "Arson",
          "Number": null,
          "year": 1975
         },
         {
          "Crime": "Arson",
          "Number": null,
          "year": 1976
         },
         {
          "Crime": "Arson",
          "Number": 0,
          "year": 1977
         },
         {
          "Crime": "Arson",
          "Number": 0,
          "year": 1978
         },
         {
          "Crime": "Arson",
          "Number": null,
          "year": 1979
         },
         {
          "Crime": "Arson",
          "Number": null,
          "year": 1980
         },
         {
          "Crime": "Arson",
          "Number": null,
          "year": 1981
         },
         {
          "Crime": "Arson",
          "Number": 1,
          "year": 1982
         },
         {
          "Crime": "Arson",
          "Number": 3,
          "year": 1983
         },
         {
          "Crime": "Arson",
          "Number": 1,
          "year": 1984
         },
         {
          "Crime": "Arson",
          "Number": 0,
          "year": 1985
         },
         {
          "Crime": "Arson",
          "Number": 1,
          "year": 1986
         },
         {
          "Crime": "Arson",
          "Number": 4,
          "year": 1987
         },
         {
          "Crime": "Arson",
          "Number": 1,
          "year": 1988
         },
         {
          "Crime": "Arson",
          "Number": 0,
          "year": 1989
         },
         {
          "Crime": "Arson",
          "Number": 1,
          "year": 1990
         },
         {
          "Crime": "Arson",
          "Number": 0,
          "year": 1991
         },
         {
          "Crime": "Arson",
          "Number": 6,
          "year": 1992
         },
         {
          "Crime": "Arson",
          "Number": null,
          "year": 1993
         },
         {
          "Crime": "Arson",
          "Number": 0,
          "year": 1994
         },
         {
          "Crime": "Arson",
          "Number": 0,
          "year": 1995
         },
         {
          "Crime": "Arson",
          "Number": 0,
          "year": 1996
         },
         {
          "Crime": "Arson",
          "Number": 0,
          "year": 1997
         },
         {
          "Crime": "Arson",
          "Number": 0,
          "year": 1998
         },
         {
          "Crime": "Arson",
          "Number": 1,
          "year": 1999
         },
         {
          "Crime": "Arson",
          "Number": 0,
          "year": 2000
         },
         {
          "Crime": "Arson",
          "Number": 0,
          "year": 2001
         },
         {
          "Crime": "Arson",
          "Number": 0,
          "year": 2002
         },
         {
          "Crime": "Arson",
          "Number": 0,
          "year": 2003
         },
         {
          "Crime": "Arson",
          "Number": 1,
          "year": 2004
         },
         {
          "Crime": "Arson",
          "Number": 0,
          "year": 2005
         },
         {
          "Crime": "Arson",
          "Number": 0,
          "year": 2006
         },
         {
          "Crime": "Arson",
          "Number": 0,
          "year": 2007
         },
         {
          "Crime": "Arson",
          "Number": 1,
          "year": 2008
         },
         {
          "Crime": "Arson",
          "Number": 0,
          "year": 2009
         },
         {
          "Crime": "Arson",
          "Number": 0,
          "year": 2010
         },
         {
          "Crime": "Arson",
          "Number": 2,
          "year": 2011
         },
         {
          "Crime": "Arson",
          "Number": 0,
          "year": 2012
         },
         {
          "Crime": "Arson",
          "Number": 0,
          "year": 2013
         },
         {
          "Crime": "Arson",
          "Number": 1,
          "year": 2014
         },
         {
          "Crime": "Arson",
          "Number": null,
          "year": 2015
         },
         {
          "Crime": "Arson",
          "Number": null,
          "year": 2016
         }
        ]
       },
       "encoding": {
        "color": {
         "field": "Crime",
         "legend": null,
         "type": "nominal"
        },
        "size": {
         "field": "Number",
         "legend": {
          "title": "Reports"
         },
         "scale": {
          "range": [
           0,
           1500
          ]
         },
         "type": "quantitative"
        },
        "x": {
         "axis": {
          "labelAngle": 0,
          "title": "Year"
         },
         "field": "year",
         "type": "ordinal"
        },
        "y": {
         "field": "Crime",
         "type": "nominal"
        }
       },
       "height": 320,
       "mark": {
        "opacity": 0.7,
        "stroke": "grey",
        "strokeWidth": 1,
        "type": "circle"
       },
       "title": "Reported crime by type",
       "width": 450
      },
      "image/png": "[encoded data removed]",
      "text/plain": [
       "<VegaLite 2 object>\n",
       "\n",
       "If you see this message, it means the renderer has not been properly enabled\n",
       "for the frontend that you are using. For more information, see\n",
       "https://altair-viz.github.io/user_guide/troubleshooting.html\n"
      ]
     },
     "execution_count": 99,
     "metadata": {},
     "output_type": "execute_result"
    }
   ],
   "source": [
    "alt.Chart(source, width=450, height=320).mark_circle(\n",
    "    opacity=0.7,\n",
    "    stroke='grey',\n",
    "    strokeWidth=1\n",
    ").encode(\n",
    "    alt.X('year:O', axis=alt.Axis(labelAngle=0, title='Year')),\n",
    "    alt.Y('Crime:N'),\n",
    "    alt.Size('Number:Q',\n",
    "        scale=alt.Scale(range=[0, 1500]), \n",
    "        legend=alt.Legend(title='Reports')\n",
    "    ),\n",
    "    alt.Color('Crime:N', legend=None)\n",
    ").properties(\n",
    "    title='Reported crime by type'\n",
    ")"
   ]
  },
  {
   "cell_type": "code",
   "execution_count": null,
   "metadata": {},
   "outputs": [],
   "source": []
  }
 ],
 "metadata": {
  "kernelspec": {
   "display_name": "Python (Altair)",
   "language": "python",
   "name": "altair"
  },
  "language_info": {
   "codemirror_mode": {
    "name": "ipython",
    "version": 3
   },
   "file_extension": ".py",
   "mimetype": "text/x-python",
   "name": "python",
   "nbconvert_exporter": "python",
   "pygments_lexer": "ipython3",
   "version": "3.7.1"
  }
 },
 "nbformat": 4,
 "nbformat_minor": 2
}
