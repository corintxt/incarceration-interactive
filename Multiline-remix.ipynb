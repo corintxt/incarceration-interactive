{
 "cells": [
  {
   "cell_type": "code",
   "execution_count": 4,
   "metadata": {},
   "outputs": [],
   "source": [
    "import pandas as pd"
   ]
  },
  {
   "cell_type": "code",
   "execution_count": 5,
   "metadata": {},
   "outputs": [],
   "source": [
    "pd.set_option('display.max_columns', 100)"
   ]
  },
  {
   "cell_type": "code",
   "execution_count": 6,
   "metadata": {},
   "outputs": [],
   "source": [
    "import altair as alt"
   ]
  },
  {
   "cell_type": "markdown",
   "metadata": {},
   "source": [
    "## Load Zoe's modified dataset with race percentages "
   ]
  },
  {
   "cell_type": "code",
   "execution_count": 7,
   "metadata": {},
   "outputs": [],
   "source": [
    "df2 = pd.read_csv('data/incarceration_trends_w_percs.csv')"
   ]
  },
  {
   "cell_type": "code",
   "execution_count": 9,
   "metadata": {},
   "outputs": [],
   "source": [
    "alameda_percs = df2[df2.county_name=='Alameda County']"
   ]
  },
  {
   "cell_type": "code",
   "execution_count": 11,
   "metadata": {},
   "outputs": [
    {
     "data": {
      "text/html": [
       "<div>\n",
       "<style scoped>\n",
       "    .dataframe tbody tr th:only-of-type {\n",
       "        vertical-align: middle;\n",
       "    }\n",
       "\n",
       "    .dataframe tbody tr th {\n",
       "        vertical-align: top;\n",
       "    }\n",
       "\n",
       "    .dataframe thead th {\n",
       "        text-align: right;\n",
       "    }\n",
       "</style>\n",
       "<table border=\"1\" class=\"dataframe\">\n",
       "  <thead>\n",
       "    <tr style=\"text-align: right;\">\n",
       "      <th></th>\n",
       "      <th>year</th>\n",
       "      <th>variable</th>\n",
       "      <th>value</th>\n",
       "    </tr>\n",
       "  </thead>\n",
       "  <tbody>\n",
       "    <tr>\n",
       "      <th>0</th>\n",
       "      <td>1970</td>\n",
       "      <td>perc_white_prison_pop</td>\n",
       "      <td>NaN</td>\n",
       "    </tr>\n",
       "    <tr>\n",
       "      <th>1</th>\n",
       "      <td>1971</td>\n",
       "      <td>perc_white_prison_pop</td>\n",
       "      <td>NaN</td>\n",
       "    </tr>\n",
       "    <tr>\n",
       "      <th>2</th>\n",
       "      <td>1972</td>\n",
       "      <td>perc_white_prison_pop</td>\n",
       "      <td>NaN</td>\n",
       "    </tr>\n",
       "    <tr>\n",
       "      <th>3</th>\n",
       "      <td>1973</td>\n",
       "      <td>perc_white_prison_pop</td>\n",
       "      <td>NaN</td>\n",
       "    </tr>\n",
       "    <tr>\n",
       "      <th>4</th>\n",
       "      <td>1974</td>\n",
       "      <td>perc_white_prison_pop</td>\n",
       "      <td>NaN</td>\n",
       "    </tr>\n",
       "  </tbody>\n",
       "</table>\n",
       "</div>"
      ],
      "text/plain": [
       "   year               variable  value\n",
       "0  1970  perc_white_prison_pop    NaN\n",
       "1  1971  perc_white_prison_pop    NaN\n",
       "2  1972  perc_white_prison_pop    NaN\n",
       "3  1973  perc_white_prison_pop    NaN\n",
       "4  1974  perc_white_prison_pop    NaN"
      ]
     },
     "execution_count": 11,
     "metadata": {},
     "output_type": "execute_result"
    }
   ],
   "source": [
    "pd.melt(alameda_percs, id_vars=['year'], value_vars=['perc_white_prison_pop', 'perc_black_prison_pop']).head()"
   ]
  },
  {
   "cell_type": "code",
   "execution_count": 91,
   "metadata": {},
   "outputs": [],
   "source": [
    "# List the values we are interested in \n",
    "values = ['perc_white_total_pop',\n",
    "          'perc_black_total_pop',\n",
    "           'perc_black_jail_pop',\n",
    "           'perc_white_jail_pop',\n",
    "         'perc_white_prison_pop',\n",
    "         'perc_black_prison_pop']"
   ]
  },
  {
   "cell_type": "code",
   "execution_count": 92,
   "metadata": {},
   "outputs": [],
   "source": [
    "# Melt out those values into individual rows\n",
    "alameda_melt = pd.melt(alameda_percs, id_vars=['year'], \n",
    "                       value_vars=values)"
   ]
  },
  {
   "cell_type": "code",
   "execution_count": 101,
   "metadata": {},
   "outputs": [
    {
     "data": {
      "text/plain": [
       "year                         1985\n",
       "variable    perc_black_prison_pop\n",
       "value                    0.668709\n",
       "Name: 250, dtype: object"
      ]
     },
     "execution_count": 101,
     "metadata": {},
     "output_type": "execute_result"
    }
   ],
   "source": [
    "alameda_melt.loc[250]"
   ]
  },
  {
   "cell_type": "code",
   "execution_count": 120,
   "metadata": {},
   "outputs": [],
   "source": [
    "# Function to reformat race demographic labels\n",
    "def label_demographics(row):\n",
    "    if row['variable'] == 'perc_white_total_pop':\n",
    "        return 'Total white population (15-64)'\n",
    "    if row['variable'] == 'perc_white_jail_pop':\n",
    "        return 'White jail population'\n",
    "    if row['variable'] == 'perc_white_prison_pop':\n",
    "        return 'White prison population'\n",
    "    if row['variable'] == 'perc_black_total_pop':\n",
    "        return 'Total black population (15-64)'\n",
    "    if row['variable'] == 'perc_black_jail_pop':\n",
    "        return 'Black jail population'\n",
    "    if row['variable'] == 'perc_black_prison_pop':\n",
    "        return 'Black prison population'"
   ]
  },
  {
   "cell_type": "code",
   "execution_count": 121,
   "metadata": {},
   "outputs": [],
   "source": [
    "# Create a new column with a lambda function\n",
    "alameda_melt['demographic'] = alameda_melt.apply (lambda row: label_demographics(row), axis=1)"
   ]
  },
  {
   "cell_type": "markdown",
   "metadata": {},
   "source": [
    "## Normalized chart"
   ]
  },
  {
   "cell_type": "code",
   "execution_count": 104,
   "metadata": {},
   "outputs": [
    {
     "data": {
      "text/html": [
       "<div>\n",
       "<style scoped>\n",
       "    .dataframe tbody tr th:only-of-type {\n",
       "        vertical-align: middle;\n",
       "    }\n",
       "\n",
       "    .dataframe tbody tr th {\n",
       "        vertical-align: top;\n",
       "    }\n",
       "\n",
       "    .dataframe thead th {\n",
       "        text-align: right;\n",
       "    }\n",
       "</style>\n",
       "<table border=\"1\" class=\"dataframe\">\n",
       "  <thead>\n",
       "    <tr style=\"text-align: right;\">\n",
       "      <th></th>\n",
       "      <th>year</th>\n",
       "      <th>variable</th>\n",
       "      <th>value</th>\n",
       "      <th>demographic</th>\n",
       "    </tr>\n",
       "  </thead>\n",
       "  <tbody>\n",
       "    <tr>\n",
       "      <th>0</th>\n",
       "      <td>1970</td>\n",
       "      <td>perc_white_total_pop</td>\n",
       "      <td>0.805091</td>\n",
       "      <td>Total white population (15-64)</td>\n",
       "    </tr>\n",
       "    <tr>\n",
       "      <th>1</th>\n",
       "      <td>1971</td>\n",
       "      <td>perc_white_total_pop</td>\n",
       "      <td>0.798229</td>\n",
       "      <td>Total white population (15-64)</td>\n",
       "    </tr>\n",
       "    <tr>\n",
       "      <th>2</th>\n",
       "      <td>1972</td>\n",
       "      <td>perc_white_total_pop</td>\n",
       "      <td>0.790960</td>\n",
       "      <td>Total white population (15-64)</td>\n",
       "    </tr>\n",
       "    <tr>\n",
       "      <th>3</th>\n",
       "      <td>1973</td>\n",
       "      <td>perc_white_total_pop</td>\n",
       "      <td>0.783643</td>\n",
       "      <td>Total white population (15-64)</td>\n",
       "    </tr>\n",
       "    <tr>\n",
       "      <th>4</th>\n",
       "      <td>1974</td>\n",
       "      <td>perc_white_total_pop</td>\n",
       "      <td>0.776829</td>\n",
       "      <td>Total white population (15-64)</td>\n",
       "    </tr>\n",
       "  </tbody>\n",
       "</table>\n",
       "</div>"
      ],
      "text/plain": [
       "   year              variable     value                     demographic\n",
       "0  1970  perc_white_total_pop  0.805091  Total white population (15-64)\n",
       "1  1971  perc_white_total_pop  0.798229  Total white population (15-64)\n",
       "2  1972  perc_white_total_pop  0.790960  Total white population (15-64)\n",
       "3  1973  perc_white_total_pop  0.783643  Total white population (15-64)\n",
       "4  1974  perc_white_total_pop  0.776829  Total white population (15-64)"
      ]
     },
     "execution_count": 104,
     "metadata": {},
     "output_type": "execute_result"
    }
   ],
   "source": [
    "alameda_melt.head()"
   ]
  },
  {
   "cell_type": "code",
   "execution_count": 111,
   "metadata": {},
   "outputs": [],
   "source": [
    "wb = ['perc_white_total_pop', 'perc_black_total_pop']\n",
    "jail = ['perc_white_jail_pop', 'perc_black_jail_pop']\n",
    "prison = ['perc_white_prison_pop', 'perc_black_prison_pop']"
   ]
  },
  {
   "cell_type": "code",
   "execution_count": 123,
   "metadata": {},
   "outputs": [
    {
     "data": {
      "text/html": [
       "<div>\n",
       "<style scoped>\n",
       "    .dataframe tbody tr th:only-of-type {\n",
       "        vertical-align: middle;\n",
       "    }\n",
       "\n",
       "    .dataframe tbody tr th {\n",
       "        vertical-align: top;\n",
       "    }\n",
       "\n",
       "    .dataframe thead th {\n",
       "        text-align: right;\n",
       "    }\n",
       "</style>\n",
       "<table border=\"1\" class=\"dataframe\">\n",
       "  <thead>\n",
       "    <tr style=\"text-align: right;\">\n",
       "      <th></th>\n",
       "      <th>year</th>\n",
       "      <th>variable</th>\n",
       "      <th>value</th>\n",
       "      <th>demographic</th>\n",
       "    </tr>\n",
       "  </thead>\n",
       "  <tbody>\n",
       "    <tr>\n",
       "      <th>277</th>\n",
       "      <td>2012</td>\n",
       "      <td>perc_black_prison_pop</td>\n",
       "      <td>0.668942</td>\n",
       "      <td>Black prison population</td>\n",
       "    </tr>\n",
       "    <tr>\n",
       "      <th>278</th>\n",
       "      <td>2013</td>\n",
       "      <td>perc_black_prison_pop</td>\n",
       "      <td>0.663066</td>\n",
       "      <td>Black prison population</td>\n",
       "    </tr>\n",
       "    <tr>\n",
       "      <th>279</th>\n",
       "      <td>2014</td>\n",
       "      <td>perc_black_prison_pop</td>\n",
       "      <td>0.668933</td>\n",
       "      <td>Black prison population</td>\n",
       "    </tr>\n",
       "    <tr>\n",
       "      <th>280</th>\n",
       "      <td>2015</td>\n",
       "      <td>perc_black_prison_pop</td>\n",
       "      <td>0.664274</td>\n",
       "      <td>Black prison population</td>\n",
       "    </tr>\n",
       "    <tr>\n",
       "      <th>281</th>\n",
       "      <td>2016</td>\n",
       "      <td>perc_black_prison_pop</td>\n",
       "      <td>NaN</td>\n",
       "      <td>Black prison population</td>\n",
       "    </tr>\n",
       "  </tbody>\n",
       "</table>\n",
       "</div>"
      ],
      "text/plain": [
       "     year               variable     value              demographic\n",
       "277  2012  perc_black_prison_pop  0.668942  Black prison population\n",
       "278  2013  perc_black_prison_pop  0.663066  Black prison population\n",
       "279  2014  perc_black_prison_pop  0.668933  Black prison population\n",
       "280  2015  perc_black_prison_pop  0.664274  Black prison population\n",
       "281  2016  perc_black_prison_pop       NaN  Black prison population"
      ]
     },
     "execution_count": 123,
     "metadata": {},
     "output_type": "execute_result"
    }
   ],
   "source": [
    "alameda_melt[alameda_melt['variable'].isin(prison)].tail()"
   ]
  },
  {
   "cell_type": "code",
   "execution_count": 140,
   "metadata": {},
   "outputs": [],
   "source": [
    "# Create dictionary for labels - with same color assigned to white/white, black/black\n",
    "\n",
    "demographics = ['Total white population (15-64)',\n",
    "               'Total black population (15-64)',\n",
    "               'White jail population',\n",
    "               'Black jail population',\n",
    "               'White prison population',\n",
    "               'Black prison population']\n",
    "\n",
    "hex_colors = ['#e7f771',\n",
    "              '#22144c',\n",
    "              '#e7f771',\n",
    "              '#22144c',\n",
    "              '#e7f771',\n",
    "              '#22144c']\n",
    "\n",
    "# Combine demographic and colors into a dictionary\n",
    "demographic_labels = dict(zip(demographics, hex_colors))"
   ]
  },
  {
   "cell_type": "code",
   "execution_count": 146,
   "metadata": {},
   "outputs": [],
   "source": [
    "total_wb_population = alt.Chart(alameda_melt[alameda_melt['variable'].isin(wb)], height=150, width=500).mark_area().encode(\n",
    "    x=\"year:O\",\n",
    "    y=alt.Y(\"value:Q\", stack=\"normalize\"),\n",
    "    color=alt.Color('demographic:N',\n",
    "             scale=alt.Scale(domain=list(demographic_labels.keys()),\n",
    "                            range=list(demographic_labels.values())\n",
    "                            )\n",
    "             )\n",
    ").properties(\n",
    "    title='Ratio of black:white residents in county population'\n",
    ")"
   ]
  },
  {
   "cell_type": "code",
   "execution_count": 147,
   "metadata": {},
   "outputs": [],
   "source": [
    "total_wb_jail = alt.Chart(alameda_melt[alameda_melt['variable'].isin(jail)], height=150, width=500).mark_area().encode(\n",
    "    x=\"year:O\",\n",
    "    y=alt.Y(\"value:Q\", stack=\"normalize\"),\n",
    "    color=alt.Color('demographic:N',\n",
    "             scale=alt.Scale(domain=list(demographic_labels.keys()),\n",
    "                            range=list(demographic_labels.values())\n",
    "                            )\n",
    "             )\n",
    ").properties(\n",
    "    title='Ratio of black:white inmates in jail population'\n",
    ")"
   ]
  },
  {
   "cell_type": "code",
   "execution_count": 148,
   "metadata": {},
   "outputs": [],
   "source": [
    "total_wb_prison = alt.Chart(alameda_melt[alameda_melt['variable'].isin(prison)], height=150, width=500).mark_area().encode(\n",
    "    x=\"year:O\",\n",
    "    y=alt.Y(\"value:Q\", stack=\"normalize\"),\n",
    "    color=alt.Color('demographic:N',\n",
    "             scale=alt.Scale(domain=list(demographic_labels.keys()),\n",
    "                            range=list(demographic_labels.values())\n",
    "                            )\n",
    "             )\n",
    ").properties(\n",
    "    title='Ratio of black:white inmates in prison population'\n",
    ")"
   ]
  },
  {
   "cell_type": "code",
   "execution_count": 149,
   "metadata": {},
   "outputs": [
    {
     "data": {
      "application/vnd.vegalite.v2+json": {
       "$schema": "https://vega.github.io/schema/vega-lite/v2.6.0.json",
       "config": {
        "view": {
         "height": 300,
         "width": 400
        }
       },
       "datasets": {
        "data-250c47407251d30a8c96a4b114ff941c": [
         {
          "demographic": "White prison population",
          "value": null,
          "variable": "perc_white_prison_pop",
          "year": 1970
         },
         {
          "demographic": "White prison population",
          "value": null,
          "variable": "perc_white_prison_pop",
          "year": 1971
         },
         {
          "demographic": "White prison population",
          "value": null,
          "variable": "perc_white_prison_pop",
          "year": 1972
         },
         {
          "demographic": "White prison population",
          "value": null,
          "variable": "perc_white_prison_pop",
          "year": 1973
         },
         {
          "demographic": "White prison population",
          "value": null,
          "variable": "perc_white_prison_pop",
          "year": 1974
         },
         {
          "demographic": "White prison population",
          "value": null,
          "variable": "perc_white_prison_pop",
          "year": 1975
         },
         {
          "demographic": "White prison population",
          "value": null,
          "variable": "perc_white_prison_pop",
          "year": 1976
         },
         {
          "demographic": "White prison population",
          "value": null,
          "variable": "perc_white_prison_pop",
          "year": 1977
         },
         {
          "demographic": "White prison population",
          "value": null,
          "variable": "perc_white_prison_pop",
          "year": 1978
         },
         {
          "demographic": "White prison population",
          "value": null,
          "variable": "perc_white_prison_pop",
          "year": 1979
         },
         {
          "demographic": "White prison population",
          "value": null,
          "variable": "perc_white_prison_pop",
          "year": 1980
         },
         {
          "demographic": "White prison population",
          "value": null,
          "variable": "perc_white_prison_pop",
          "year": 1981
         },
         {
          "demographic": "White prison population",
          "value": null,
          "variable": "perc_white_prison_pop",
          "year": 1982
         },
         {
          "demographic": "White prison population",
          "value": 0.20084343700579865,
          "variable": "perc_white_prison_pop",
          "year": 1983
         },
         {
          "demographic": "White prison population",
          "value": 0.2152399802078179,
          "variable": "perc_white_prison_pop",
          "year": 1984
         },
         {
          "demographic": "White prison population",
          "value": 0.21269146608315095,
          "variable": "perc_white_prison_pop",
          "year": 1985
         },
         {
          "demographic": "White prison population",
          "value": 0.20230326295585413,
          "variable": "perc_white_prison_pop",
          "year": 1986
         },
         {
          "demographic": "White prison population",
          "value": 0.1884664948453608,
          "variable": "perc_white_prison_pop",
          "year": 1987
         },
         {
          "demographic": "White prison population",
          "value": 0.1561904761904762,
          "variable": "perc_white_prison_pop",
          "year": 1988
         },
         {
          "demographic": "White prison population",
          "value": 0.1504393042853685,
          "variable": "perc_white_prison_pop",
          "year": 1989
         },
         {
          "demographic": "White prison population",
          "value": 0.14481964016671098,
          "variable": "perc_white_prison_pop",
          "year": 1990
         },
         {
          "demographic": "White prison population",
          "value": 0.13932702418506834,
          "variable": "perc_white_prison_pop",
          "year": 1991
         },
         {
          "demographic": "White prison population",
          "value": 0.14988351022521354,
          "variable": "perc_white_prison_pop",
          "year": 1992
         },
         {
          "demographic": "White prison population",
          "value": 0.1437170805116629,
          "variable": "perc_white_prison_pop",
          "year": 1993
         },
         {
          "demographic": "White prison population",
          "value": 0.1508498583569405,
          "variable": "perc_white_prison_pop",
          "year": 1994
         },
         {
          "demographic": "White prison population",
          "value": 0.15098265895953758,
          "variable": "perc_white_prison_pop",
          "year": 1995
         },
         {
          "demographic": "White prison population",
          "value": 0.1461913855293868,
          "variable": "perc_white_prison_pop",
          "year": 1996
         },
         {
          "demographic": "White prison population",
          "value": 0.14303303919556742,
          "variable": "perc_white_prison_pop",
          "year": 1997
         },
         {
          "demographic": "White prison population",
          "value": 0.14288545382481174,
          "variable": "perc_white_prison_pop",
          "year": 1998
         },
         {
          "demographic": "White prison population",
          "value": 0.1265552099533437,
          "variable": "perc_white_prison_pop",
          "year": 1999
         },
         {
          "demographic": "White prison population",
          "value": 0.13867802258840956,
          "variable": "perc_white_prison_pop",
          "year": 2000
         },
         {
          "demographic": "White prison population",
          "value": 0.14510556621881,
          "variable": "perc_white_prison_pop",
          "year": 2001
         },
         {
          "demographic": "White prison population",
          "value": 0.14675701839303,
          "variable": "perc_white_prison_pop",
          "year": 2002
         },
         {
          "demographic": "White prison population",
          "value": 0.15066225165562913,
          "variable": "perc_white_prison_pop",
          "year": 2003
         },
         {
          "demographic": "White prison population",
          "value": 0.13746130030959752,
          "variable": "perc_white_prison_pop",
          "year": 2004
         },
         {
          "demographic": "White prison population",
          "value": 0.13727907932593506,
          "variable": "perc_white_prison_pop",
          "year": 2005
         },
         {
          "demographic": "White prison population",
          "value": 0.13017630176301764,
          "variable": "perc_white_prison_pop",
          "year": 2006
         },
         {
          "demographic": "White prison population",
          "value": 0.12626262626262627,
          "variable": "perc_white_prison_pop",
          "year": 2007
         },
         {
          "demographic": "White prison population",
          "value": 0.1274949083503055,
          "variable": "perc_white_prison_pop",
          "year": 2008
         },
         {
          "demographic": "White prison population",
          "value": 0.12987830465799413,
          "variable": "perc_white_prison_pop",
          "year": 2009
         },
         {
          "demographic": "White prison population",
          "value": 0.11934782608695653,
          "variable": "perc_white_prison_pop",
          "year": 2010
         },
         {
          "demographic": "White prison population",
          "value": 0.11194937941104892,
          "variable": "perc_white_prison_pop",
          "year": 2011
         },
         {
          "demographic": "White prison population",
          "value": 0.10921501706484643,
          "variable": "perc_white_prison_pop",
          "year": 2012
         },
         {
          "demographic": "White prison population",
          "value": 0.1044238683127572,
          "variable": "perc_white_prison_pop",
          "year": 2013
         },
         {
          "demographic": "White prison population",
          "value": 0.0967573221757322,
          "variable": "perc_white_prison_pop",
          "year": 2014
         },
         {
          "demographic": "White prison population",
          "value": 0.09595959595959597,
          "variable": "perc_white_prison_pop",
          "year": 2015
         },
         {
          "demographic": "White prison population",
          "value": null,
          "variable": "perc_white_prison_pop",
          "year": 2016
         },
         {
          "demographic": "Black prison population",
          "value": null,
          "variable": "perc_black_prison_pop",
          "year": 1970
         },
         {
          "demographic": "Black prison population",
          "value": null,
          "variable": "perc_black_prison_pop",
          "year": 1971
         },
         {
          "demographic": "Black prison population",
          "value": null,
          "variable": "perc_black_prison_pop",
          "year": 1972
         },
         {
          "demographic": "Black prison population",
          "value": null,
          "variable": "perc_black_prison_pop",
          "year": 1973
         },
         {
          "demographic": "Black prison population",
          "value": null,
          "variable": "perc_black_prison_pop",
          "year": 1974
         },
         {
          "demographic": "Black prison population",
          "value": null,
          "variable": "perc_black_prison_pop",
          "year": 1975
         },
         {
          "demographic": "Black prison population",
          "value": null,
          "variable": "perc_black_prison_pop",
          "year": 1976
         },
         {
          "demographic": "Black prison population",
          "value": null,
          "variable": "perc_black_prison_pop",
          "year": 1977
         },
         {
          "demographic": "Black prison population",
          "value": null,
          "variable": "perc_black_prison_pop",
          "year": 1978
         },
         {
          "demographic": "Black prison population",
          "value": null,
          "variable": "perc_black_prison_pop",
          "year": 1979
         },
         {
          "demographic": "Black prison population",
          "value": null,
          "variable": "perc_black_prison_pop",
          "year": 1980
         },
         {
          "demographic": "Black prison population",
          "value": null,
          "variable": "perc_black_prison_pop",
          "year": 1981
         },
         {
          "demographic": "Black prison population",
          "value": null,
          "variable": "perc_black_prison_pop",
          "year": 1982
         },
         {
          "demographic": "Black prison population",
          "value": 0.6568265682656826,
          "variable": "perc_black_prison_pop",
          "year": 1983
         },
         {
          "demographic": "Black prison population",
          "value": 0.6521523998020782,
          "variable": "perc_black_prison_pop",
          "year": 1984
         },
         {
          "demographic": "Black prison population",
          "value": 0.6687089715536105,
          "variable": "perc_black_prison_pop",
          "year": 1985
         },
         {
          "demographic": "Black prison population",
          "value": 0.6882917466410748,
          "variable": "perc_black_prison_pop",
          "year": 1986
         },
         {
          "demographic": "Black prison population",
          "value": 0.6965206185567011,
          "variable": "perc_black_prison_pop",
          "year": 1987
         },
         {
          "demographic": "Black prison population",
          "value": 0.7289795918367347,
          "variable": "perc_black_prison_pop",
          "year": 1988
         },
         {
          "demographic": "Black prison population",
          "value": 0.7301416532194728,
          "variable": "perc_black_prison_pop",
          "year": 1989
         },
         {
          "demographic": "Black prison population",
          "value": 0.7312771426030311,
          "variable": "perc_black_prison_pop",
          "year": 1990
         },
         {
          "demographic": "Black prison population",
          "value": 0.7323869610935857,
          "variable": "perc_black_prison_pop",
          "year": 1991
         },
         {
          "demographic": "Black prison population",
          "value": 0.7312969194926223,
          "variable": "perc_black_prison_pop",
          "year": 1992
         },
         {
          "demographic": "Black prison population",
          "value": 0.7336343115124153,
          "variable": "perc_black_prison_pop",
          "year": 1993
         },
         {
          "demographic": "Black prison population",
          "value": 0.7271010387157696,
          "variable": "perc_black_prison_pop",
          "year": 1994
         },
         {
          "demographic": "Black prison population",
          "value": 0.7160693641618497,
          "variable": "perc_black_prison_pop",
          "year": 1995
         },
         {
          "demographic": "Black prison population",
          "value": 0.7197114364523658,
          "variable": "perc_black_prison_pop",
          "year": 1996
         },
         {
          "demographic": "Black prison population",
          "value": 0.7233736917709829,
          "variable": "perc_black_prison_pop",
          "year": 1997
         },
         {
          "demographic": "Black prison population",
          "value": 0.7249306381292112,
          "variable": "perc_black_prison_pop",
          "year": 1998
         },
         {
          "demographic": "Black prison population",
          "value": 0.7323094867807154,
          "variable": "perc_black_prison_pop",
          "year": 1999
         },
         {
          "demographic": "Black prison population",
          "value": 0.7143121644139974,
          "variable": "perc_black_prison_pop",
          "year": 2000
         },
         {
          "demographic": "Black prison population",
          "value": 0.692130518234165,
          "variable": "perc_black_prison_pop",
          "year": 2001
         },
         {
          "demographic": "Black prison population",
          "value": 0.6908034849951598,
          "variable": "perc_black_prison_pop",
          "year": 2002
         },
         {
          "demographic": "Black prison population",
          "value": 0.6827400662251656,
          "variable": "perc_black_prison_pop",
          "year": 2003
         },
         {
          "demographic": "Black prison population",
          "value": 0.6782249742002064,
          "variable": "perc_black_prison_pop",
          "year": 2004
         },
         {
          "demographic": "Black prison population",
          "value": 0.678380600082203,
          "variable": "perc_black_prison_pop",
          "year": 2005
         },
         {
          "demographic": "Black prison population",
          "value": 0.6832718327183271,
          "variable": "perc_black_prison_pop",
          "year": 2006
         },
         {
          "demographic": "Black prison population",
          "value": 0.6849747474747475,
          "variable": "perc_black_prison_pop",
          "year": 2007
         },
         {
          "demographic": "Black prison population",
          "value": 0.6765784114052953,
          "variable": "perc_black_prison_pop",
          "year": 2008
         },
         {
          "demographic": "Black prison population",
          "value": 0.6705832983634075,
          "variable": "perc_black_prison_pop",
          "year": 2009
         },
         {
          "demographic": "Black prison population",
          "value": 0.6682608695652174,
          "variable": "perc_black_prison_pop",
          "year": 2010
         },
         {
          "demographic": "Black prison population",
          "value": 0.6707228036018495,
          "variable": "perc_black_prison_pop",
          "year": 2011
         },
         {
          "demographic": "Black prison population",
          "value": 0.6689419795221843,
          "variable": "perc_black_prison_pop",
          "year": 2012
         },
         {
          "demographic": "Black prison population",
          "value": 0.6630658436213992,
          "variable": "perc_black_prison_pop",
          "year": 2013
         },
         {
          "demographic": "Black prison population",
          "value": 0.6689330543933054,
          "variable": "perc_black_prison_pop",
          "year": 2014
         },
         {
          "demographic": "Black prison population",
          "value": 0.664274322169059,
          "variable": "perc_black_prison_pop",
          "year": 2015
         },
         {
          "demographic": "Black prison population",
          "value": null,
          "variable": "perc_black_prison_pop",
          "year": 2016
         }
        ],
        "data-6171fe585e865e7a96aa6f1cb70de123": [
         {
          "demographic": "Total white population (15-64)",
          "value": 0.8050907701786106,
          "variable": "perc_white_total_pop",
          "year": 1970
         },
         {
          "demographic": "Total white population (15-64)",
          "value": 0.7982285743326801,
          "variable": "perc_white_total_pop",
          "year": 1971
         },
         {
          "demographic": "Total white population (15-64)",
          "value": 0.7909598134293385,
          "variable": "perc_white_total_pop",
          "year": 1972
         },
         {
          "demographic": "Total white population (15-64)",
          "value": 0.7836432365739648,
          "variable": "perc_white_total_pop",
          "year": 1973
         },
         {
          "demographic": "Total white population (15-64)",
          "value": 0.7768285377837998,
          "variable": "perc_white_total_pop",
          "year": 1974
         },
         {
          "demographic": "Total white population (15-64)",
          "value": 0.7693439346565101,
          "variable": "perc_white_total_pop",
          "year": 1975
         },
         {
          "demographic": "Total white population (15-64)",
          "value": 0.7622731810441012,
          "variable": "perc_white_total_pop",
          "year": 1976
         },
         {
          "demographic": "Total white population (15-64)",
          "value": 0.7549501214193217,
          "variable": "perc_white_total_pop",
          "year": 1977
         },
         {
          "demographic": "Total white population (15-64)",
          "value": 0.7478364330233206,
          "variable": "perc_white_total_pop",
          "year": 1978
         },
         {
          "demographic": "Total white population (15-64)",
          "value": 0.7407424906391372,
          "variable": "perc_white_total_pop",
          "year": 1979
         },
         {
          "demographic": "Total white population (15-64)",
          "value": 0.7289372825010243,
          "variable": "perc_white_total_pop",
          "year": 1980
         },
         {
          "demographic": "Total white population (15-64)",
          "value": 0.7217606523238016,
          "variable": "perc_white_total_pop",
          "year": 1981
         },
         {
          "demographic": "Total white population (15-64)",
          "value": 0.7147427060711925,
          "variable": "perc_white_total_pop",
          "year": 1982
         },
         {
          "demographic": "Total white population (15-64)",
          "value": 0.7086087713411576,
          "variable": "perc_white_total_pop",
          "year": 1983
         },
         {
          "demographic": "Total white population (15-64)",
          "value": 0.7020677940077964,
          "variable": "perc_white_total_pop",
          "year": 1984
         },
         {
          "demographic": "Total white population (15-64)",
          "value": 0.695649462030251,
          "variable": "perc_white_total_pop",
          "year": 1985
         },
         {
          "demographic": "Total white population (15-64)",
          "value": 0.6889638865156709,
          "variable": "perc_white_total_pop",
          "year": 1986
         },
         {
          "demographic": "Total white population (15-64)",
          "value": 0.6818205761201263,
          "variable": "perc_white_total_pop",
          "year": 1987
         },
         {
          "demographic": "Total white population (15-64)",
          "value": 0.6744265070927091,
          "variable": "perc_white_total_pop",
          "year": 1988
         },
         {
          "demographic": "Total white population (15-64)",
          "value": 0.666978209420326,
          "variable": "perc_white_total_pop",
          "year": 1989
         },
         {
          "demographic": "Total white population (15-64)",
          "value": 0.5299690613793142,
          "variable": "perc_white_total_pop",
          "year": 1990
         },
         {
          "demographic": "Total white population (15-64)",
          "value": 0.5194533326344223,
          "variable": "perc_white_total_pop",
          "year": 1991
         },
         {
          "demographic": "Total white population (15-64)",
          "value": 0.5093391058490899,
          "variable": "perc_white_total_pop",
          "year": 1992
         },
         {
          "demographic": "Total white population (15-64)",
          "value": 0.497377332915355,
          "variable": "perc_white_total_pop",
          "year": 1993
         },
         {
          "demographic": "Total white population (15-64)",
          "value": 0.4863979787619696,
          "variable": "perc_white_total_pop",
          "year": 1994
         },
         {
          "demographic": "Total white population (15-64)",
          "value": 0.4760216023985016,
          "variable": "perc_white_total_pop",
          "year": 1995
         },
         {
          "demographic": "Total white population (15-64)",
          "value": 0.4667336505409732,
          "variable": "perc_white_total_pop",
          "year": 1996
         },
         {
          "demographic": "Total white population (15-64)",
          "value": 0.458171164620846,
          "variable": "perc_white_total_pop",
          "year": 1997
         },
         {
          "demographic": "Total white population (15-64)",
          "value": 0.4508876318847703,
          "variable": "perc_white_total_pop",
          "year": 1998
         },
         {
          "demographic": "Total white population (15-64)",
          "value": 0.4433617067697612,
          "variable": "perc_white_total_pop",
          "year": 1999
         },
         {
          "demographic": "Total white population (15-64)",
          "value": 0.4355074113118341,
          "variable": "perc_white_total_pop",
          "year": 2000
         },
         {
          "demographic": "Total white population (15-64)",
          "value": 0.4264687295781851,
          "variable": "perc_white_total_pop",
          "year": 2001
         },
         {
          "demographic": "Total white population (15-64)",
          "value": 0.41787940358102893,
          "variable": "perc_white_total_pop",
          "year": 2002
         },
         {
          "demographic": "Total white population (15-64)",
          "value": 0.4104752431869179,
          "variable": "perc_white_total_pop",
          "year": 2003
         },
         {
          "demographic": "Total white population (15-64)",
          "value": 0.4030011164042077,
          "variable": "perc_white_total_pop",
          "year": 2004
         },
         {
          "demographic": "Total white population (15-64)",
          "value": 0.39618978110875547,
          "variable": "perc_white_total_pop",
          "year": 2005
         },
         {
          "demographic": "Total white population (15-64)",
          "value": 0.3896263733660744,
          "variable": "perc_white_total_pop",
          "year": 2006
         },
         {
          "demographic": "Total white population (15-64)",
          "value": 0.38291206083221857,
          "variable": "perc_white_total_pop",
          "year": 2007
         },
         {
          "demographic": "Total white population (15-64)",
          "value": 0.37513023380884136,
          "variable": "perc_white_total_pop",
          "year": 2008
         },
         {
          "demographic": "Total white population (15-64)",
          "value": 0.3687155936266872,
          "variable": "perc_white_total_pop",
          "year": 2009
         },
         {
          "demographic": "Total white population (15-64)",
          "value": 0.3627879049928864,
          "variable": "perc_white_total_pop",
          "year": 2010
         },
         {
          "demographic": "Total white population (15-64)",
          "value": 0.3614794795756923,
          "variable": "perc_white_total_pop",
          "year": 2011
         },
         {
          "demographic": "Total white population (15-64)",
          "value": 0.3564316500656248,
          "variable": "perc_white_total_pop",
          "year": 2012
         },
         {
          "demographic": "Total white population (15-64)",
          "value": 0.35147888399023697,
          "variable": "perc_white_total_pop",
          "year": 2013
         },
         {
          "demographic": "Total white population (15-64)",
          "value": 0.3470005376339212,
          "variable": "perc_white_total_pop",
          "year": 2014
         },
         {
          "demographic": "Total white population (15-64)",
          "value": 0.34299899330296585,
          "variable": "perc_white_total_pop",
          "year": 2015
         },
         {
          "demographic": "Total white population (15-64)",
          "value": 0.33884136037177864,
          "variable": "perc_white_total_pop",
          "year": 2016
         },
         {
          "demographic": "Total black population (15-64)",
          "value": 0.14549078798654067,
          "variable": "perc_black_total_pop",
          "year": 1970
         },
         {
          "demographic": "Total black population (15-64)",
          "value": 0.14891946987108176,
          "variable": "perc_black_total_pop",
          "year": 1971
         },
         {
          "demographic": "Total black population (15-64)",
          "value": 0.152570032914505,
          "variable": "perc_black_total_pop",
          "year": 1972
         },
         {
          "demographic": "Total black population (15-64)",
          "value": 0.15614679380221122,
          "variable": "perc_black_total_pop",
          "year": 1973
         },
         {
          "demographic": "Total black population (15-64)",
          "value": 0.15924854032177735,
          "variable": "perc_black_total_pop",
          "year": 1974
         },
         {
          "demographic": "Total black population (15-64)",
          "value": 0.1626970460381984,
          "variable": "perc_black_total_pop",
          "year": 1975
         },
         {
          "demographic": "Total black population (15-64)",
          "value": 0.16575600980146168,
          "variable": "perc_black_total_pop",
          "year": 1976
         },
         {
          "demographic": "Total black population (15-64)",
          "value": 0.1688628954734559,
          "variable": "perc_black_total_pop",
          "year": 1977
         },
         {
          "demographic": "Total black population (15-64)",
          "value": 0.17173797135555516,
          "variable": "perc_black_total_pop",
          "year": 1978
         },
         {
          "demographic": "Total black population (15-64)",
          "value": 0.1744565581160944,
          "variable": "perc_black_total_pop",
          "year": 1979
         },
         {
          "demographic": "Total black population (15-64)",
          "value": 0.17940326838401174,
          "variable": "perc_black_total_pop",
          "year": 1980
         },
         {
          "demographic": "Total black population (15-64)",
          "value": 0.17880661347036414,
          "variable": "perc_black_total_pop",
          "year": 1981
         },
         {
          "demographic": "Total black population (15-64)",
          "value": 0.17827841248859094,
          "variable": "perc_black_total_pop",
          "year": 1982
         },
         {
          "demographic": "Total black population (15-64)",
          "value": 0.17776693703855492,
          "variable": "perc_black_total_pop",
          "year": 1983
         },
         {
          "demographic": "Total black population (15-64)",
          "value": 0.17715227147823692,
          "variable": "perc_black_total_pop",
          "year": 1984
         },
         {
          "demographic": "Total black population (15-64)",
          "value": 0.17642528997589033,
          "variable": "perc_black_total_pop",
          "year": 1985
         },
         {
          "demographic": "Total black population (15-64)",
          "value": 0.17587849439113076,
          "variable": "perc_black_total_pop",
          "year": 1986
         },
         {
          "demographic": "Total black population (15-64)",
          "value": 0.17563832887939965,
          "variable": "perc_black_total_pop",
          "year": 1987
         },
         {
          "demographic": "Total black population (15-64)",
          "value": 0.17559278691923585,
          "variable": "perc_black_total_pop",
          "year": 1988
         },
         {
          "demographic": "Total black population (15-64)",
          "value": 0.1752910634547858,
          "variable": "perc_black_total_pop",
          "year": 1989
         },
         {
          "demographic": "Total black population (15-64)",
          "value": 0.17226265937865404,
          "variable": "perc_black_total_pop",
          "year": 1990
         },
         {
          "demographic": "Total black population (15-64)",
          "value": 0.17042424269461418,
          "variable": "perc_black_total_pop",
          "year": 1991
         },
         {
          "demographic": "Total black population (15-64)",
          "value": 0.16848603993638453,
          "variable": "perc_black_total_pop",
          "year": 1992
         },
         {
          "demographic": "Total black population (15-64)",
          "value": 0.16611770211976845,
          "variable": "perc_black_total_pop",
          "year": 1993
         },
         {
          "demographic": "Total black population (15-64)",
          "value": 0.16382660324140794,
          "variable": "perc_black_total_pop",
          "year": 1994
         },
         {
          "demographic": "Total black population (15-64)",
          "value": 0.16154146526562874,
          "variable": "perc_black_total_pop",
          "year": 1995
         },
         {
          "demographic": "Total black population (15-64)",
          "value": 0.15919676203304442,
          "variable": "perc_black_total_pop",
          "year": 1996
         },
         {
          "demographic": "Total black population (15-64)",
          "value": 0.1565202514862495,
          "variable": "perc_black_total_pop",
          "year": 1997
         },
         {
          "demographic": "Total black population (15-64)",
          "value": 0.15341744523632,
          "variable": "perc_black_total_pop",
          "year": 1998
         },
         {
          "demographic": "Total black population (15-64)",
          "value": 0.15059943090002825,
          "variable": "perc_black_total_pop",
          "year": 1999
         },
         {
          "demographic": "Total black population (15-64)",
          "value": 0.14799662976983405,
          "variable": "perc_black_total_pop",
          "year": 2000
         },
         {
          "demographic": "Total black population (15-64)",
          "value": 0.14400373875361164,
          "variable": "perc_black_total_pop",
          "year": 2001
         },
         {
          "demographic": "Total black population (15-64)",
          "value": 0.14110519862292298,
          "variable": "perc_black_total_pop",
          "year": 2002
         },
         {
          "demographic": "Total black population (15-64)",
          "value": 0.13930875512374952,
          "variable": "perc_black_total_pop",
          "year": 2003
         },
         {
          "demographic": "Total black population (15-64)",
          "value": 0.1379071234909474,
          "variable": "perc_black_total_pop",
          "year": 2004
         },
         {
          "demographic": "Total black population (15-64)",
          "value": 0.13617784194691634,
          "variable": "perc_black_total_pop",
          "year": 2005
         },
         {
          "demographic": "Total black population (15-64)",
          "value": 0.13506460693009506,
          "variable": "perc_black_total_pop",
          "year": 2006
         },
         {
          "demographic": "Total black population (15-64)",
          "value": 0.13359951340483622,
          "variable": "perc_black_total_pop",
          "year": 2007
         },
         {
          "demographic": "Total black population (15-64)",
          "value": 0.13202262622680008,
          "variable": "perc_black_total_pop",
          "year": 2008
         },
         {
          "demographic": "Total black population (15-64)",
          "value": 0.13101490661619528,
          "variable": "perc_black_total_pop",
          "year": 2009
         },
         {
          "demographic": "Total black population (15-64)",
          "value": 0.1303690262988708,
          "variable": "perc_black_total_pop",
          "year": 2010
         },
         {
          "demographic": "Total black population (15-64)",
          "value": 0.1295161848115031,
          "variable": "perc_black_total_pop",
          "year": 2011
         },
         {
          "demographic": "Total black population (15-64)",
          "value": 0.12790362981089434,
          "variable": "perc_black_total_pop",
          "year": 2012
         },
         {
          "demographic": "Total black population (15-64)",
          "value": 0.12570100075962826,
          "variable": "perc_black_total_pop",
          "year": 2013
         },
         {
          "demographic": "Total black population (15-64)",
          "value": 0.12306558317867668,
          "variable": "perc_black_total_pop",
          "year": 2014
         },
         {
          "demographic": "Total black population (15-64)",
          "value": 0.12023157601633562,
          "variable": "perc_black_total_pop",
          "year": 2015
         },
         {
          "demographic": "Total black population (15-64)",
          "value": 0.11754858470637937,
          "variable": "perc_black_total_pop",
          "year": 2016
         }
        ],
        "data-df419a0761f5b80744f27a12b7d857ea": [
         {
          "demographic": "Black jail population",
          "value": null,
          "variable": "perc_black_jail_pop",
          "year": 1970
         },
         {
          "demographic": "Black jail population",
          "value": null,
          "variable": "perc_black_jail_pop",
          "year": 1971
         },
         {
          "demographic": "Black jail population",
          "value": null,
          "variable": "perc_black_jail_pop",
          "year": 1972
         },
         {
          "demographic": "Black jail population",
          "value": null,
          "variable": "perc_black_jail_pop",
          "year": 1973
         },
         {
          "demographic": "Black jail population",
          "value": null,
          "variable": "perc_black_jail_pop",
          "year": 1974
         },
         {
          "demographic": "Black jail population",
          "value": null,
          "variable": "perc_black_jail_pop",
          "year": 1975
         },
         {
          "demographic": "Black jail population",
          "value": null,
          "variable": "perc_black_jail_pop",
          "year": 1976
         },
         {
          "demographic": "Black jail population",
          "value": null,
          "variable": "perc_black_jail_pop",
          "year": 1977
         },
         {
          "demographic": "Black jail population",
          "value": null,
          "variable": "perc_black_jail_pop",
          "year": 1978
         },
         {
          "demographic": "Black jail population",
          "value": null,
          "variable": "perc_black_jail_pop",
          "year": 1979
         },
         {
          "demographic": "Black jail population",
          "value": null,
          "variable": "perc_black_jail_pop",
          "year": 1980
         },
         {
          "demographic": "Black jail population",
          "value": null,
          "variable": "perc_black_jail_pop",
          "year": 1981
         },
         {
          "demographic": "Black jail population",
          "value": null,
          "variable": "perc_black_jail_pop",
          "year": 1982
         },
         {
          "demographic": "Black jail population",
          "value": null,
          "variable": "perc_black_jail_pop",
          "year": 1983
         },
         {
          "demographic": "Black jail population",
          "value": null,
          "variable": "perc_black_jail_pop",
          "year": 1984
         },
         {
          "demographic": "Black jail population",
          "value": null,
          "variable": "perc_black_jail_pop",
          "year": 1985
         },
         {
          "demographic": "Black jail population",
          "value": null,
          "variable": "perc_black_jail_pop",
          "year": 1986
         },
         {
          "demographic": "Black jail population",
          "value": null,
          "variable": "perc_black_jail_pop",
          "year": 1987
         },
         {
          "demographic": "Black jail population",
          "value": null,
          "variable": "perc_black_jail_pop",
          "year": 1988
         },
         {
          "demographic": "Black jail population",
          "value": null,
          "variable": "perc_black_jail_pop",
          "year": 1989
         },
         {
          "demographic": "Black jail population",
          "value": 0.6122501281394157,
          "variable": "perc_black_jail_pop",
          "year": 1990
         },
         {
          "demographic": "Black jail population",
          "value": 0.6413043478260869,
          "variable": "perc_black_jail_pop",
          "year": 1991
         },
         {
          "demographic": "Black jail population",
          "value": 0.6563134978229318,
          "variable": "perc_black_jail_pop",
          "year": 1992
         },
         {
          "demographic": "Black jail population",
          "value": 0.4964257347100874,
          "variable": "perc_black_jail_pop",
          "year": 1993
         },
         {
          "demographic": "Black jail population",
          "value": 0.6306141154903758,
          "variable": "perc_black_jail_pop",
          "year": 1994
         },
         {
          "demographic": "Black jail population",
          "value": 0.5778435726622255,
          "variable": "perc_black_jail_pop",
          "year": 1995
         },
         {
          "demographic": "Black jail population",
          "value": 0.5530876250915304,
          "variable": "perc_black_jail_pop",
          "year": 1996
         },
         {
          "demographic": "Black jail population",
          "value": 0.5060465116279069,
          "variable": "perc_black_jail_pop",
          "year": 1997
         },
         {
          "demographic": "Black jail population",
          "value": 0.5545862412761715,
          "variable": "perc_black_jail_pop",
          "year": 1998
         },
         {
          "demographic": "Black jail population",
          "value": 0.6034327009936766,
          "variable": "perc_black_jail_pop",
          "year": 1999
         },
         {
          "demographic": "Black jail population",
          "value": 0.5490659730432726,
          "variable": "perc_black_jail_pop",
          "year": 2000
         },
         {
          "demographic": "Black jail population",
          "value": 0.5516078838174274,
          "variable": "perc_black_jail_pop",
          "year": 2001
         },
         {
          "demographic": "Black jail population",
          "value": 0.5723108594956253,
          "variable": "perc_black_jail_pop",
          "year": 2002
         },
         {
          "demographic": "Black jail population",
          "value": 0.5518229166666667,
          "variable": "perc_black_jail_pop",
          "year": 2003
         },
         {
          "demographic": "Black jail population",
          "value": 0.5046844181459567,
          "variable": "perc_black_jail_pop",
          "year": 2004
         },
         {
          "demographic": "Black jail population",
          "value": 0.41236345580933453,
          "variable": "perc_black_jail_pop",
          "year": 2005
         },
         {
          "demographic": "Black jail population",
          "value": 0.5499748869914616,
          "variable": "perc_black_jail_pop",
          "year": 2006
         },
         {
          "demographic": "Black jail population",
          "value": 0.4918262494161607,
          "variable": "perc_black_jail_pop",
          "year": 2007
         },
         {
          "demographic": "Black jail population",
          "value": 0.5522763669640814,
          "variable": "perc_black_jail_pop",
          "year": 2008
         },
         {
          "demographic": "Black jail population",
          "value": 0.5157515751575158,
          "variable": "perc_black_jail_pop",
          "year": 2009
         },
         {
          "demographic": "Black jail population",
          "value": 0.4490127758420441,
          "variable": "perc_black_jail_pop",
          "year": 2010
         },
         {
          "demographic": "Black jail population",
          "value": 0.4418416801292407,
          "variable": "perc_black_jail_pop",
          "year": 2011
         },
         {
          "demographic": "Black jail population",
          "value": 0.4517640573318633,
          "variable": "perc_black_jail_pop",
          "year": 2012
         },
         {
          "demographic": "Black jail population",
          "value": 0.5218187366493744,
          "variable": "perc_black_jail_pop",
          "year": 2013
         },
         {
          "demographic": "Black jail population",
          "value": 0.4887573964497041,
          "variable": "perc_black_jail_pop",
          "year": 2014
         },
         {
          "demographic": "Black jail population",
          "value": 0.5017421602787456,
          "variable": "perc_black_jail_pop",
          "year": 2015
         },
         {
          "demographic": "Black jail population",
          "value": null,
          "variable": "perc_black_jail_pop",
          "year": 2016
         },
         {
          "demographic": "White jail population",
          "value": null,
          "variable": "perc_white_jail_pop",
          "year": 1970
         },
         {
          "demographic": "White jail population",
          "value": null,
          "variable": "perc_white_jail_pop",
          "year": 1971
         },
         {
          "demographic": "White jail population",
          "value": null,
          "variable": "perc_white_jail_pop",
          "year": 1972
         },
         {
          "demographic": "White jail population",
          "value": null,
          "variable": "perc_white_jail_pop",
          "year": 1973
         },
         {
          "demographic": "White jail population",
          "value": null,
          "variable": "perc_white_jail_pop",
          "year": 1974
         },
         {
          "demographic": "White jail population",
          "value": null,
          "variable": "perc_white_jail_pop",
          "year": 1975
         },
         {
          "demographic": "White jail population",
          "value": null,
          "variable": "perc_white_jail_pop",
          "year": 1976
         },
         {
          "demographic": "White jail population",
          "value": null,
          "variable": "perc_white_jail_pop",
          "year": 1977
         },
         {
          "demographic": "White jail population",
          "value": null,
          "variable": "perc_white_jail_pop",
          "year": 1978
         },
         {
          "demographic": "White jail population",
          "value": null,
          "variable": "perc_white_jail_pop",
          "year": 1979
         },
         {
          "demographic": "White jail population",
          "value": null,
          "variable": "perc_white_jail_pop",
          "year": 1980
         },
         {
          "demographic": "White jail population",
          "value": null,
          "variable": "perc_white_jail_pop",
          "year": 1981
         },
         {
          "demographic": "White jail population",
          "value": null,
          "variable": "perc_white_jail_pop",
          "year": 1982
         },
         {
          "demographic": "White jail population",
          "value": null,
          "variable": "perc_white_jail_pop",
          "year": 1983
         },
         {
          "demographic": "White jail population",
          "value": null,
          "variable": "perc_white_jail_pop",
          "year": 1984
         },
         {
          "demographic": "White jail population",
          "value": null,
          "variable": "perc_white_jail_pop",
          "year": 1985
         },
         {
          "demographic": "White jail population",
          "value": null,
          "variable": "perc_white_jail_pop",
          "year": 1986
         },
         {
          "demographic": "White jail population",
          "value": null,
          "variable": "perc_white_jail_pop",
          "year": 1987
         },
         {
          "demographic": "White jail population",
          "value": null,
          "variable": "perc_white_jail_pop",
          "year": 1988
         },
         {
          "demographic": "White jail population",
          "value": null,
          "variable": "perc_white_jail_pop",
          "year": 1989
         },
         {
          "demographic": "White jail population",
          "value": 0.1865709892362891,
          "variable": "perc_white_jail_pop",
          "year": 1990
         },
         {
          "demographic": "White jail population",
          "value": 0.18702046035805628,
          "variable": "perc_white_jail_pop",
          "year": 1991
         },
         {
          "demographic": "White jail population",
          "value": 0.2342525399129173,
          "variable": "perc_white_jail_pop",
          "year": 1992
         },
         {
          "demographic": "White jail population",
          "value": 0.2213396875827376,
          "variable": "perc_white_jail_pop",
          "year": 1993
         },
         {
          "demographic": "White jail population",
          "value": 0.2260922700886037,
          "variable": "perc_white_jail_pop",
          "year": 1994
         },
         {
          "demographic": "White jail population",
          "value": 0.2672094744633605,
          "variable": "perc_white_jail_pop",
          "year": 1995
         },
         {
          "demographic": "White jail population",
          "value": 0.3514766902611667,
          "variable": "perc_white_jail_pop",
          "year": 1996
         },
         {
          "demographic": "White jail population",
          "value": 0.22069767441860466,
          "variable": "perc_white_jail_pop",
          "year": 1997
         },
         {
          "demographic": "White jail population",
          "value": 0.2320538384845464,
          "variable": "perc_white_jail_pop",
          "year": 1998
         },
         {
          "demographic": "White jail population",
          "value": 0.22380307136404695,
          "variable": "perc_white_jail_pop",
          "year": 1999
         },
         {
          "demographic": "White jail population",
          "value": 0.20737763064554268,
          "variable": "perc_white_jail_pop",
          "year": 2000
         },
         {
          "demographic": "White jail population",
          "value": 0.2020228215767635,
          "variable": "perc_white_jail_pop",
          "year": 2001
         },
         {
          "demographic": "White jail population",
          "value": 0.16855378281008748,
          "variable": "perc_white_jail_pop",
          "year": 2002
         },
         {
          "demographic": "White jail population",
          "value": 0.18932291666666667,
          "variable": "perc_white_jail_pop",
          "year": 2003
         },
         {
          "demographic": "White jail population",
          "value": 0.19699211045364887,
          "variable": "perc_white_jail_pop",
          "year": 2004
         },
         {
          "demographic": "White jail population",
          "value": 0.2701092353525323,
          "variable": "perc_white_jail_pop",
          "year": 2005
         },
         {
          "demographic": "White jail population",
          "value": 0.19914615770969366,
          "variable": "perc_white_jail_pop",
          "year": 2006
         },
         {
          "demographic": "White jail population",
          "value": 0.1730499766464269,
          "variable": "perc_white_jail_pop",
          "year": 2007
         },
         {
          "demographic": "White jail population",
          "value": 0.16975520475863648,
          "variable": "perc_white_jail_pop",
          "year": 2008
         },
         {
          "demographic": "White jail population",
          "value": 0.1734923492349235,
          "variable": "perc_white_jail_pop",
          "year": 2009
         },
         {
          "demographic": "White jail population",
          "value": 0.20418118466898955,
          "variable": "perc_white_jail_pop",
          "year": 2010
         },
         {
          "demographic": "White jail population",
          "value": 0.16235864297253635,
          "variable": "perc_white_jail_pop",
          "year": 2011
         },
         {
          "demographic": "White jail population",
          "value": 0.15380374862183022,
          "variable": "perc_white_jail_pop",
          "year": 2012
         },
         {
          "demographic": "White jail population",
          "value": 0.17973756484589565,
          "variable": "perc_white_jail_pop",
          "year": 2013
         },
         {
          "demographic": "White jail population",
          "value": 0.1893491124260355,
          "variable": "perc_white_jail_pop",
          "year": 2014
         },
         {
          "demographic": "White jail population",
          "value": 0.16492450638792105,
          "variable": "perc_white_jail_pop",
          "year": 2015
         },
         {
          "demographic": "White jail population",
          "value": null,
          "variable": "perc_white_jail_pop",
          "year": 2016
         }
        ]
       },
       "vconcat": [
        {
         "data": {
          "name": "data-6171fe585e865e7a96aa6f1cb70de123"
         },
         "encoding": {
          "color": {
           "field": "demographic",
           "scale": {
            "domain": [
             "Total white population (15-64)",
             "Total black population (15-64)",
             "White jail population",
             "Black jail population",
             "White prison population",
             "Black prison population"
            ],
            "range": [
             "#e7f771",
             "#22144c",
             "#e7f771",
             "#22144c",
             "#e7f771",
             "#22144c"
            ]
           },
           "type": "nominal"
          },
          "x": {
           "field": "year",
           "type": "ordinal"
          },
          "y": {
           "field": "value",
           "stack": "normalize",
           "type": "quantitative"
          }
         },
         "height": 150,
         "mark": "bar",
         "title": "Ratio of black:white residents in county population",
         "width": 500
        },
        {
         "data": {
          "name": "data-df419a0761f5b80744f27a12b7d857ea"
         },
         "encoding": {
          "color": {
           "field": "demographic",
           "scale": {
            "domain": [
             "Total white population (15-64)",
             "Total black population (15-64)",
             "White jail population",
             "Black jail population",
             "White prison population",
             "Black prison population"
            ],
            "range": [
             "#e7f771",
             "#22144c",
             "#e7f771",
             "#22144c",
             "#e7f771",
             "#22144c"
            ]
           },
           "type": "nominal"
          },
          "x": {
           "field": "year",
           "type": "ordinal"
          },
          "y": {
           "field": "value",
           "stack": "normalize",
           "type": "quantitative"
          }
         },
         "height": 150,
         "mark": "bar",
         "title": "Ratio of black:white inmates in jail population",
         "width": 500
        },
        {
         "data": {
          "name": "data-250c47407251d30a8c96a4b114ff941c"
         },
         "encoding": {
          "color": {
           "field": "demographic",
           "scale": {
            "domain": [
             "Total white population (15-64)",
             "Total black population (15-64)",
             "White jail population",
             "Black jail population",
             "White prison population",
             "Black prison population"
            ],
            "range": [
             "#e7f771",
             "#22144c",
             "#e7f771",
             "#22144c",
             "#e7f771",
             "#22144c"
            ]
           },
           "type": "nominal"
          },
          "x": {
           "field": "year",
           "type": "ordinal"
          },
          "y": {
           "field": "value",
           "stack": "normalize",
           "type": "quantitative"
          }
         },
         "height": 150,
         "mark": "bar",
         "title": "Ratio of black:white inmates in prison population",
         "width": 500
        }
       ]
      },
      "image/png": "[encoded data removed]",
      "text/plain": [
       "<VegaLite 2 object>\n",
       "\n",
       "If you see this message, it means the renderer has not been properly enabled\n",
       "for the frontend that you are using. For more information, see\n",
       "https://altair-viz.github.io/user_guide/troubleshooting.html\n"
      ]
     },
     "execution_count": 149,
     "metadata": {},
     "output_type": "execute_result"
    }
   ],
   "source": [
    "alt.vconcat(total_wb_population, total_wb_jail, total_wb_prison)"
   ]
  },
  {
   "cell_type": "code",
   "execution_count": null,
   "metadata": {},
   "outputs": [],
   "source": []
  }
 ],
 "metadata": {
  "kernelspec": {
   "display_name": "Python (Altair)",
   "language": "python",
   "name": "altair"
  },
  "language_info": {
   "codemirror_mode": {
    "name": "ipython",
    "version": 3
   },
   "file_extension": ".py",
   "mimetype": "text/x-python",
   "name": "python",
   "nbconvert_exporter": "python",
   "pygments_lexer": "ipython3",
   "version": "3.7.1"
  }
 },
 "nbformat": 4,
 "nbformat_minor": 2
}
